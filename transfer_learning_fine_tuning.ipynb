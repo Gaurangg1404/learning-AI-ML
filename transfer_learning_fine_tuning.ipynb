{
  "cells": [
    {
      "cell_type": "markdown",
      "metadata": {
        "id": "view-in-github",
        "colab_type": "text"
      },
      "source": [
        "<a href=\"https://colab.research.google.com/github/Gaurangg1404/learning-AI-ML/blob/main/transfer_learning_fine_tuning.ipynb\" target=\"_parent\"><img src=\"https://colab.research.google.com/assets/colab-badge.svg\" alt=\"Open In Colab\"/></a>"
      ]
    },
    {
      "cell_type": "code",
      "execution_count": 2,
      "metadata": {
        "colab": {
          "base_uri": "https://localhost:8080/"
        },
        "id": "idTmLjDz66lf",
        "outputId": "2e58025a-67f9-42f5-e83e-c6e346d54fa8"
      },
      "outputs": [
        {
          "output_type": "stream",
          "name": "stdout",
          "text": [
            "/bin/bash: line 1: nvidia-smi: command not found\n"
          ]
        }
      ],
      "source": [
        "!nvidia-smi"
      ]
    },
    {
      "cell_type": "code",
      "execution_count": 3,
      "metadata": {
        "colab": {
          "base_uri": "https://localhost:8080/"
        },
        "id": "wx9tVGDJ9NPf",
        "outputId": "c634c45d-a85b-4630-b80a-be88002dd79e"
      },
      "outputs": [
        {
          "output_type": "stream",
          "name": "stdout",
          "text": [
            "--2024-02-09 18:57:56--  https://raw.githubusercontent.com/mrdbourke/tensorflow-deep-learning/main/extras/helper_functions.py\n",
            "Resolving raw.githubusercontent.com (raw.githubusercontent.com)... 185.199.108.133, 185.199.109.133, 185.199.110.133, ...\n",
            "Connecting to raw.githubusercontent.com (raw.githubusercontent.com)|185.199.108.133|:443... connected.\n",
            "HTTP request sent, awaiting response... 200 OK\n",
            "Length: 10246 (10K) [text/plain]\n",
            "Saving to: ‘helper_functions.py’\n",
            "\n",
            "\rhelper_functions.py   0%[                    ]       0  --.-KB/s               \rhelper_functions.py 100%[===================>]  10.01K  --.-KB/s    in 0s      \n",
            "\n",
            "2024-02-09 18:57:56 (76.2 MB/s) - ‘helper_functions.py’ saved [10246/10246]\n",
            "\n"
          ]
        }
      ],
      "source": [
        "!wget https://raw.githubusercontent.com/mrdbourke/tensorflow-deep-learning/main/extras/helper_functions.py"
      ]
    },
    {
      "cell_type": "code",
      "execution_count": 4,
      "metadata": {
        "id": "Ua_Iixj_9jvk"
      },
      "outputs": [],
      "source": [
        "from helper_functions import create_tensorboard_callback, plot_loss_curves, unzip_data, walk_through_dir"
      ]
    },
    {
      "cell_type": "code",
      "execution_count": 5,
      "metadata": {
        "colab": {
          "base_uri": "https://localhost:8080/"
        },
        "id": "iorHPkd9-KQH",
        "outputId": "0897dea3-f9b7-41ae-d5b1-feda0673b34e"
      },
      "outputs": [
        {
          "output_type": "stream",
          "name": "stdout",
          "text": [
            "--2024-02-09 18:58:04--  https://storage.googleapis.com/ztm_tf_course/food_vision/10_food_classes_10_percent.zip\n",
            "Resolving storage.googleapis.com (storage.googleapis.com)... 142.251.179.207, 142.251.163.207, 142.251.167.207, ...\n",
            "Connecting to storage.googleapis.com (storage.googleapis.com)|142.251.179.207|:443... connected.\n",
            "HTTP request sent, awaiting response... 200 OK\n",
            "Length: 168546183 (161M) [application/zip]\n",
            "Saving to: ‘10_food_classes_10_percent.zip’\n",
            "\n",
            "10_food_classes_10_ 100%[===================>] 160.74M   160MB/s    in 1.0s    \n",
            "\n",
            "2024-02-09 18:58:05 (160 MB/s) - ‘10_food_classes_10_percent.zip’ saved [168546183/168546183]\n",
            "\n"
          ]
        }
      ],
      "source": [
        "!wget https://storage.googleapis.com/ztm_tf_course/food_vision/10_food_classes_10_percent.zip\n",
        "\n",
        "unzip_data(\"10_food_classes_10_percent.zip\")"
      ]
    },
    {
      "cell_type": "code",
      "execution_count": 6,
      "metadata": {
        "colab": {
          "base_uri": "https://localhost:8080/"
        },
        "id": "qTbNxyJ2BnZg",
        "outputId": "877940ba-2a6a-447d-9d30-ae7573f56f14"
      },
      "outputs": [
        {
          "output_type": "stream",
          "name": "stdout",
          "text": [
            "There are 2 directories and 0 images in '10_food_classes_10_percent'.\n",
            "There are 10 directories and 0 images in '10_food_classes_10_percent/test'.\n",
            "There are 0 directories and 250 images in '10_food_classes_10_percent/test/chicken_wings'.\n",
            "There are 0 directories and 250 images in '10_food_classes_10_percent/test/ice_cream'.\n",
            "There are 0 directories and 250 images in '10_food_classes_10_percent/test/sushi'.\n",
            "There are 0 directories and 250 images in '10_food_classes_10_percent/test/fried_rice'.\n",
            "There are 0 directories and 250 images in '10_food_classes_10_percent/test/pizza'.\n",
            "There are 0 directories and 250 images in '10_food_classes_10_percent/test/steak'.\n",
            "There are 0 directories and 250 images in '10_food_classes_10_percent/test/chicken_curry'.\n",
            "There are 0 directories and 250 images in '10_food_classes_10_percent/test/ramen'.\n",
            "There are 0 directories and 250 images in '10_food_classes_10_percent/test/hamburger'.\n",
            "There are 0 directories and 250 images in '10_food_classes_10_percent/test/grilled_salmon'.\n",
            "There are 10 directories and 0 images in '10_food_classes_10_percent/train'.\n",
            "There are 0 directories and 75 images in '10_food_classes_10_percent/train/chicken_wings'.\n",
            "There are 0 directories and 75 images in '10_food_classes_10_percent/train/ice_cream'.\n",
            "There are 0 directories and 75 images in '10_food_classes_10_percent/train/sushi'.\n",
            "There are 0 directories and 75 images in '10_food_classes_10_percent/train/fried_rice'.\n",
            "There are 0 directories and 75 images in '10_food_classes_10_percent/train/pizza'.\n",
            "There are 0 directories and 75 images in '10_food_classes_10_percent/train/steak'.\n",
            "There are 0 directories and 75 images in '10_food_classes_10_percent/train/chicken_curry'.\n",
            "There are 0 directories and 75 images in '10_food_classes_10_percent/train/ramen'.\n",
            "There are 0 directories and 75 images in '10_food_classes_10_percent/train/hamburger'.\n",
            "There are 0 directories and 75 images in '10_food_classes_10_percent/train/grilled_salmon'.\n"
          ]
        }
      ],
      "source": [
        "walk_through_dir(\"10_food_classes_10_percent\")"
      ]
    },
    {
      "cell_type": "code",
      "execution_count": 7,
      "metadata": {
        "id": "h79hu_tyCT8O"
      },
      "outputs": [],
      "source": [
        "train_dir = \"10_food_classes_10_percent/train\"\n",
        "test_dir = \"10_food_classes_10_percent/test\""
      ]
    },
    {
      "cell_type": "code",
      "execution_count": 8,
      "metadata": {
        "colab": {
          "base_uri": "https://localhost:8080/"
        },
        "id": "XrBGlFwAChsD",
        "outputId": "8ac26836-caed-49fb-8792-bfa32fcfed23"
      },
      "outputs": [
        {
          "output_type": "stream",
          "name": "stdout",
          "text": [
            "Found 750 files belonging to 10 classes.\n",
            "Found 2500 files belonging to 10 classes.\n"
          ]
        }
      ],
      "source": [
        "import tensorflow as tf\n",
        "IMG_SIZE = (224, 224)\n",
        "BATCH_SIZE = 32\n",
        "train_data_10_percent = tf.keras.preprocessing.image_dataset_from_directory(directory=train_dir,\n",
        "                                                                            image_size=IMG_SIZE,\n",
        "                                                                            label_mode=\"categorical\",\n",
        "                                                                            batch_size=32)\n",
        "\n",
        "\n",
        "test_data = tf.keras.preprocessing.image_dataset_from_directory(directory=test_dir,\n",
        "                                                                image_size=IMG_SIZE,\n",
        "                                                                label_mode=\"categorical\",\n",
        "                                                               batch_size=32)\n",
        "\n",
        "\n"
      ]
    },
    {
      "cell_type": "code",
      "execution_count": 9,
      "metadata": {
        "colab": {
          "base_uri": "https://localhost:8080/"
        },
        "id": "IB5j3tV3DWmG",
        "outputId": "3407e706-effa-4c52-902e-477b17a7e9fd"
      },
      "outputs": [
        {
          "output_type": "execute_result",
          "data": {
            "text/plain": [
              "['chicken_curry',\n",
              " 'chicken_wings',\n",
              " 'fried_rice',\n",
              " 'grilled_salmon',\n",
              " 'hamburger',\n",
              " 'ice_cream',\n",
              " 'pizza',\n",
              " 'ramen',\n",
              " 'steak',\n",
              " 'sushi']"
            ]
          },
          "metadata": {},
          "execution_count": 9
        }
      ],
      "source": [
        "train_data_10_percent.class_names"
      ]
    },
    {
      "cell_type": "code",
      "execution_count": 10,
      "metadata": {
        "colab": {
          "base_uri": "https://localhost:8080/"
        },
        "id": "aTOFlAn6Dd9z",
        "outputId": "879ee463-8d31-49e8-8b35-5b80e71dd8bd"
      },
      "outputs": [
        {
          "output_type": "stream",
          "name": "stdout",
          "text": [
            "tf.Tensor(\n",
            "[[[[0.00000000e+00 0.00000000e+00 0.00000000e+00]\n",
            "   [0.00000000e+00 0.00000000e+00 0.00000000e+00]\n",
            "   [0.00000000e+00 0.00000000e+00 0.00000000e+00]\n",
            "   ...\n",
            "   [5.50103416e+01 5.50103416e+01 4.61532860e+01]\n",
            "   [6.33775673e+01 6.23775673e+01 5.73775673e+01]\n",
            "   [6.66735153e+01 6.56735153e+01 6.16735153e+01]]\n",
            "\n",
            "  [[0.00000000e+00 0.00000000e+00 0.00000000e+00]\n",
            "   [0.00000000e+00 0.00000000e+00 0.00000000e+00]\n",
            "   [0.00000000e+00 0.00000000e+00 0.00000000e+00]\n",
            "   ...\n",
            "   [5.62296562e+01 5.62296562e+01 4.73726006e+01]\n",
            "   [5.98673363e+01 5.88673363e+01 5.38673363e+01]\n",
            "   [5.90714302e+01 5.80714302e+01 5.40714302e+01]]\n",
            "\n",
            "  [[0.00000000e+00 0.00000000e+00 0.00000000e+00]\n",
            "   [0.00000000e+00 0.00000000e+00 0.00000000e+00]\n",
            "   [0.00000000e+00 0.00000000e+00 0.00000000e+00]\n",
            "   ...\n",
            "   [5.45714722e+01 5.45714722e+01 4.57144165e+01]\n",
            "   [5.91275749e+01 5.81275749e+01 5.31275749e+01]\n",
            "   [6.15714264e+01 6.05714264e+01 5.65714264e+01]]\n",
            "\n",
            "  ...\n",
            "\n",
            "  [[1.54000000e+02 1.37000000e+02 1.17000000e+02]\n",
            "   [1.54785706e+02 1.37785706e+02 1.17785706e+02]\n",
            "   [1.53785706e+02 1.36785706e+02 1.16785706e+02]\n",
            "   ...\n",
            "   [1.35260147e+02 1.21260147e+02 1.08260147e+02]\n",
            "   [1.32142883e+02 1.18142883e+02 1.05142883e+02]\n",
            "   [1.33285645e+02 1.19285645e+02 1.06285645e+02]]\n",
            "\n",
            "  [[1.54000000e+02 1.37000000e+02 1.17000000e+02]\n",
            "   [1.53071411e+02 1.36071411e+02 1.16071411e+02]\n",
            "   [1.53198975e+02 1.36198975e+02 1.16198982e+02]\n",
            "   ...\n",
            "   [1.34244873e+02 1.20244865e+02 1.07244865e+02]\n",
            "   [1.33071472e+02 1.19071472e+02 1.06071472e+02]\n",
            "   [1.33285645e+02 1.19285645e+02 1.06285645e+02]]\n",
            "\n",
            "  [[1.53127548e+02 1.36127548e+02 1.16127548e+02]\n",
            "   [1.53000000e+02 1.36000000e+02 1.16000000e+02]\n",
            "   [1.54352036e+02 1.37352036e+02 1.17352043e+02]\n",
            "   ...\n",
            "   [1.33862259e+02 1.19862259e+02 1.06862259e+02]\n",
            "   [1.34739807e+02 1.20739807e+02 1.07739807e+02]\n",
            "   [1.33341705e+02 1.19341705e+02 1.06341705e+02]]]\n",
            "\n",
            "\n",
            " [[[0.00000000e+00 0.00000000e+00 0.00000000e+00]\n",
            "   [0.00000000e+00 0.00000000e+00 0.00000000e+00]\n",
            "   [0.00000000e+00 0.00000000e+00 0.00000000e+00]\n",
            "   ...\n",
            "   [1.30000000e+01 1.40000000e+01 8.00000000e+00]\n",
            "   [1.30000000e+01 1.40000000e+01 8.00000000e+00]\n",
            "   [1.30000000e+01 1.40000000e+01 8.00000000e+00]]\n",
            "\n",
            "  [[0.00000000e+00 0.00000000e+00 0.00000000e+00]\n",
            "   [0.00000000e+00 0.00000000e+00 0.00000000e+00]\n",
            "   [0.00000000e+00 0.00000000e+00 0.00000000e+00]\n",
            "   ...\n",
            "   [1.37857056e+01 1.40000000e+01 6.00000000e+00]\n",
            "   [1.30000000e+01 1.40000000e+01 6.00000000e+00]\n",
            "   [1.30000000e+01 1.40000000e+01 6.00000000e+00]]\n",
            "\n",
            "  [[0.00000000e+00 0.00000000e+00 0.00000000e+00]\n",
            "   [0.00000000e+00 0.00000000e+00 0.00000000e+00]\n",
            "   [0.00000000e+00 0.00000000e+00 0.00000000e+00]\n",
            "   ...\n",
            "   [1.44285717e+01 1.37857141e+01 6.00000000e+00]\n",
            "   [1.44285717e+01 1.37857141e+01 6.00000000e+00]\n",
            "   [1.40000000e+01 1.40000000e+01 6.00000000e+00]]\n",
            "\n",
            "  ...\n",
            "\n",
            "  [[9.32437820e+01 9.10295181e+01 7.76009903e+01]\n",
            "   [1.36269730e+02 1.32540131e+02 1.19698349e+02]\n",
            "   [1.65081390e+02 1.62081390e+02 1.46652863e+02]\n",
            "   ...\n",
            "   [8.38254471e+01 7.78254471e+01 6.38255081e+01]\n",
            "   [4.39425163e+01 4.07282829e+01 2.55139885e+01]\n",
            "   [1.70607414e+01 1.42852306e+01 3.89252186e+00]]\n",
            "\n",
            "  [[5.15816593e+00 2.11223912e+00 0.00000000e+00]\n",
            "   [1.94742889e+01 1.64742889e+01 9.68353653e+00]\n",
            "   [6.42901840e+01 6.05044708e+01 5.01065445e+01]\n",
            "   ...\n",
            "   [1.34335117e+01 9.74986744e+00 1.45914698e+00]\n",
            "   [4.40292740e+00 4.27033949e+00 0.00000000e+00]\n",
            "   [1.52548468e+00 2.79077888e+00 0.00000000e+00]]\n",
            "\n",
            "  [[5.97438240e+00 1.97438264e+00 8.72401714e-01]\n",
            "   [6.29575920e+00 2.69885254e+00 5.96906424e-01]\n",
            "   [8.98481083e+00 5.98481083e+00 1.12255836e+00]\n",
            "   ...\n",
            "   [3.28576660e+00 1.55626512e+00 0.00000000e+00]\n",
            "   [3.23986197e+00 4.09703970e+00 0.00000000e+00]\n",
            "   [9.43876624e-01 2.89792180e+00 0.00000000e+00]]]\n",
            "\n",
            "\n",
            " [[[1.40000000e+01 1.40000000e+01 1.40000000e+01]\n",
            "   [1.45969391e+01 1.45969391e+01 1.45969391e+01]\n",
            "   [1.50000000e+01 1.50000000e+01 1.50000000e+01]\n",
            "   ...\n",
            "   [5.90000000e+01 5.50000000e+01 7.00000000e+01]\n",
            "   [6.00714417e+01 5.60714417e+01 7.10714417e+01]\n",
            "   [6.07703857e+01 5.67703857e+01 7.17703857e+01]]\n",
            "\n",
            "  [[1.50000000e+01 1.50000000e+01 1.50000000e+01]\n",
            "   [1.50000000e+01 1.50000000e+01 1.50000000e+01]\n",
            "   [1.52142859e+01 1.52142859e+01 1.52142859e+01]\n",
            "   ...\n",
            "   [5.97296104e+01 5.57296104e+01 7.07296143e+01]\n",
            "   [5.80714264e+01 5.40714264e+01 6.90714264e+01]\n",
            "   [5.84030952e+01 5.44030952e+01 6.94030914e+01]]\n",
            "\n",
            "  [[1.37857141e+01 1.37857141e+01 1.37857141e+01]\n",
            "   [1.37857141e+01 1.37857141e+01 1.37857141e+01]\n",
            "   [1.47857141e+01 1.47857141e+01 1.47857141e+01]\n",
            "   ...\n",
            "   [5.87398224e+01 5.47398224e+01 6.97398224e+01]\n",
            "   [5.67295799e+01 5.27295799e+01 6.77295837e+01]\n",
            "   [5.84337158e+01 5.44337158e+01 6.94337158e+01]]\n",
            "\n",
            "  ...\n",
            "\n",
            "  [[1.62806206e+01 1.12806196e+01 7.28062010e+00]\n",
            "   [1.42856922e+01 9.28569221e+00 5.28569221e+00]\n",
            "   [1.63826370e+01 1.13826361e+01 7.38263607e+00]\n",
            "   ...\n",
            "   [1.00000000e+01 9.00000000e+00 5.00000000e+00]\n",
            "   [1.10000000e+01 1.00000000e+01 6.00000000e+00]\n",
            "   [1.06428223e+01 9.64282227e+00 5.64282227e+00]]\n",
            "\n",
            "  [[1.83316288e+01 1.33316278e+01 9.33162785e+00]\n",
            "   [1.61377678e+01 1.11377668e+01 7.13776684e+00]\n",
            "   [1.62704201e+01 1.12704182e+01 7.27041864e+00]\n",
            "   ...\n",
            "   [8.87248516e+00 7.87248516e+00 3.87248516e+00]\n",
            "   [1.00714417e+01 9.07144165e+00 5.07144165e+00]\n",
            "   [9.11736584e+00 8.11736584e+00 4.11736584e+00]]\n",
            "\n",
            "  [[1.65152588e+01 1.15152588e+01 7.51525879e+00]\n",
            "   [1.79744873e+01 1.29744873e+01 8.97448730e+00]\n",
            "   [1.63519974e+01 1.13519983e+01 7.35199833e+00]\n",
            "   ...\n",
            "   [9.56629181e+00 8.56629181e+00 4.56629181e+00]\n",
            "   [1.06428223e+01 9.64282227e+00 5.64282227e+00]\n",
            "   [1.00560427e+01 9.05604267e+00 5.05604267e+00]]]\n",
            "\n",
            "\n",
            " ...\n",
            "\n",
            "\n",
            " [[[1.71642853e+02 9.06428604e+01 2.76428566e+01]\n",
            "   [1.72668365e+02 8.86683655e+01 2.66683674e+01]\n",
            "   [1.71505112e+02 8.75051041e+01 2.55051022e+01]\n",
            "   ...\n",
            "   [1.36214264e+02 5.52142639e+01 1.02142639e+01]\n",
            "   [1.35596924e+02 5.45969315e+01 9.59693050e+00]\n",
            "   [1.35000000e+02 5.40000000e+01 9.00000000e+00]]\n",
            "\n",
            "  [[1.73928574e+02 9.29285736e+01 2.99285717e+01]\n",
            "   [1.72994904e+02 9.19948959e+01 2.89948978e+01]\n",
            "   [1.74857147e+02 9.08571472e+01 2.88571434e+01]\n",
            "   ...\n",
            "   [1.37198959e+02 5.61989594e+01 1.11989594e+01]\n",
            "   [1.36862228e+02 5.58622322e+01 1.08622332e+01]\n",
            "   [1.35928574e+02 5.49285736e+01 9.92857170e+00]]\n",
            "\n",
            "  [[1.76214279e+02 9.52142868e+01 3.22142868e+01]\n",
            "   [1.76214279e+02 9.52142868e+01 3.22142868e+01]\n",
            "   [1.76765305e+02 9.52602005e+01 3.24285736e+01]\n",
            "   ...\n",
            "   [1.38382629e+02 5.73826370e+01 1.19540644e+01]\n",
            "   [1.37943863e+02 5.69438667e+01 1.15152960e+01]\n",
            "   [1.37000000e+02 5.60000000e+01 1.05714283e+01]]\n",
            "\n",
            "  ...\n",
            "\n",
            "  [[1.69000000e+02 8.74285278e+01 2.92142639e+01]\n",
            "   [1.69785736e+02 8.82142639e+01 3.00000000e+01]\n",
            "   [1.68785736e+02 8.72142639e+01 2.90000000e+01]\n",
            "   ...\n",
            "   [8.99947815e+01 7.29029617e+01 4.41377258e+01]\n",
            "   [8.61275177e+01 6.91275177e+01 4.06989861e+01]\n",
            "   [8.20713806e+01 6.50713806e+01 3.50713806e+01]]\n",
            "\n",
            "  [[1.67596924e+02 8.55969315e+01 2.75969296e+01]\n",
            "   [1.68862228e+02 8.68622360e+01 2.88622322e+01]\n",
            "   [1.68000000e+02 8.60000000e+01 2.80000000e+01]\n",
            "   ...\n",
            "   [8.41988983e+01 6.71988983e+01 3.87703667e+01]\n",
            "   [8.17856750e+01 6.47856750e+01 3.67856750e+01]\n",
            "   [7.74999390e+01 6.24999390e+01 3.34999390e+01]]\n",
            "\n",
            "  [[1.66000000e+02 8.40000000e+01 2.60000000e+01]\n",
            "   [1.67596909e+02 8.55969086e+01 2.75969067e+01]\n",
            "   [1.68000000e+02 8.60000000e+01 2.80000000e+01]\n",
            "   ...\n",
            "   [7.64999084e+01 5.94999084e+01 3.10713806e+01]\n",
            "   [7.66683426e+01 6.16683388e+01 3.26683388e+01]\n",
            "   [7.56428223e+01 6.06428223e+01 3.16428223e+01]]]\n",
            "\n",
            "\n",
            " [[[1.95387756e+02 1.97387756e+02 1.58387756e+02]\n",
            "   [1.97214279e+02 1.99214279e+02 1.62214279e+02]\n",
            "   [2.06214294e+02 2.07642868e+02 1.76285721e+02]\n",
            "   ...\n",
            "   [1.87142792e+02 1.81280533e+02 1.58719299e+02]\n",
            "   [1.94515472e+02 1.89872620e+02 1.66801193e+02]\n",
            "   [2.13178406e+02 2.08178406e+02 1.87464127e+02]]\n",
            "\n",
            "  [[1.61719391e+02 1.63719391e+02 1.24719391e+02]\n",
            "   [1.85158157e+02 1.86295914e+02 1.51882660e+02]\n",
            "   [1.92239792e+02 1.93224487e+02 1.61484695e+02]\n",
            "   ...\n",
            "   [1.51433777e+02 1.48520477e+02 1.33234772e+02]\n",
            "   [1.54301010e+02 1.51505112e+02 1.34153061e+02]\n",
            "   [1.63740005e+02 1.61668579e+02 1.46382858e+02]]\n",
            "\n",
            "  [[9.38775558e+01 9.48775558e+01 6.13061218e+01]\n",
            "   [1.25581635e+02 1.26581635e+02 9.30102081e+01]\n",
            "   [1.40204086e+02 1.41204086e+02 1.09418365e+02]\n",
            "   ...\n",
            "   [8.85614319e+01 8.89899826e+01 8.20613708e+01]\n",
            "   [8.97245255e+01 9.09388123e+01 8.35816727e+01]\n",
            "   [9.68111191e+01 9.88162994e+01 9.11019821e+01]]\n",
            "\n",
            "  ...\n",
            "\n",
            "  [[1.37806442e+02 6.65206833e+01 1.10920887e+01]\n",
            "   [1.45025818e+02 7.24543457e+01 1.76686115e+01]\n",
            "   [1.44928970e+02 7.01891174e+01 1.62145920e+01]\n",
            "   ...\n",
            "   [6.43367081e+01 3.04285278e+01 3.85705566e+00]\n",
            "   [7.46887131e+01 3.86887131e+01 1.66887131e+01]\n",
            "   [7.32857666e+01 3.52857666e+01 1.62857666e+01]]\n",
            "\n",
            "  [[1.49790817e+02 7.58622742e+01 1.05765057e+01]\n",
            "   [1.64428574e+02 8.94948959e+01 2.42805748e+01]\n",
            "   [1.56658096e+02 8.14591217e+01 1.68570385e+01]\n",
            "   ...\n",
            "   [7.16735916e+01 3.68878517e+01 6.11748600e+00]\n",
            "   [7.93927536e+01 4.33927536e+01 1.93927517e+01]\n",
            "   [7.56635666e+01 3.86635666e+01 1.96635647e+01]]\n",
            "\n",
            "  [[1.60020477e+02 8.60204697e+01 1.23061171e+01]\n",
            "   [1.67556107e+02 9.35560989e+01 1.98417454e+01]\n",
            "   [1.64653320e+02 8.85768204e+01 1.57961082e+01]\n",
            "   ...\n",
            "   [6.66784134e+01 3.18926754e+01 2.29590893e-01]\n",
            "   [7.11990891e+01 3.51990891e+01 9.34197235e+00]\n",
            "   [8.79184036e+01 5.09184074e+01 3.19184074e+01]]]\n",
            "\n",
            "\n",
            " [[[1.92000000e+02 2.39000000e+02 2.45000000e+02]\n",
            "   [1.92000000e+02 2.39000000e+02 2.47000000e+02]\n",
            "   [1.89785721e+02 2.36571426e+02 2.47214279e+02]\n",
            "   ...\n",
            "   [1.43719376e+02 1.32719376e+02 1.02719383e+02]\n",
            "   [1.42642853e+02 1.31642853e+02 1.03642860e+02]\n",
            "   [1.43229614e+02 1.32229614e+02 1.04229614e+02]]\n",
            "\n",
            "  [[1.91000000e+02 2.38000000e+02 2.44000000e+02]\n",
            "   [1.91071426e+02 2.38071426e+02 2.46071426e+02]\n",
            "   [1.90801025e+02 2.37586731e+02 2.48229584e+02]\n",
            "   ...\n",
            "   [1.44943878e+02 1.31214264e+02 1.01403099e+02]\n",
            "   [1.44000000e+02 1.30000000e+02 1.01000000e+02]\n",
            "   [1.44000000e+02 1.30000000e+02 1.01000000e+02]]\n",
            "\n",
            "  [[1.91785721e+02 2.38785721e+02 2.46357147e+02]\n",
            "   [1.92729599e+02 2.39729599e+02 2.47729599e+02]\n",
            "   [1.91785721e+02 2.38571442e+02 2.49214294e+02]\n",
            "   ...\n",
            "   [1.44999985e+02 1.30428543e+02 9.76428375e+01]\n",
            "   [1.44785721e+02 1.30000000e+02 9.94285736e+01]\n",
            "   [1.44785721e+02 1.30000000e+02 9.94285736e+01]]\n",
            "\n",
            "  ...\n",
            "\n",
            "  [[1.84566391e+02 1.82489853e+02 1.60632736e+02]\n",
            "   [1.84224609e+02 1.82010315e+02 1.61438904e+02]\n",
            "   [1.74780777e+02 1.72566483e+02 1.51995071e+02]\n",
            "   ...\n",
            "   [1.01617416e+02 7.16174164e+01 3.56174164e+01]\n",
            "   [1.02571503e+02 7.25715027e+01 3.65715027e+01]\n",
            "   [1.03489555e+02 7.34895554e+01 3.74895554e+01]]\n",
            "\n",
            "  [[1.89377533e+02 1.86423447e+02 1.67994904e+02]\n",
            "   [1.93142822e+02 1.90142822e+02 1.73000000e+02]\n",
            "   [1.89086716e+02 1.86086716e+02 1.68943893e+02]\n",
            "   ...\n",
            "   [1.10066406e+02 8.00664062e+01 4.40664101e+01]\n",
            "   [1.06076637e+02 7.60766373e+01 4.00766335e+01]\n",
            "   [1.05923355e+02 7.59233551e+01 3.99233589e+01]]\n",
            "\n",
            "  [[1.87285767e+02 1.84285767e+02 1.68826584e+02]\n",
            "   [1.91076569e+02 1.88076569e+02 1.73076569e+02]\n",
            "   [1.91994919e+02 1.88352066e+02 1.75280624e+02]\n",
            "   ...\n",
            "   [1.08234711e+02 7.82347107e+01 4.22347145e+01]\n",
            "   [1.07505074e+02 7.75050735e+01 4.15050735e+01]\n",
            "   [1.03142883e+02 7.31428833e+01 3.71428833e+01]]]], shape=(32, 224, 224, 3), dtype=float32) tf.Tensor(\n",
            "[[0. 0. 0. 0. 1. 0. 0. 0. 0. 0.]\n",
            " [0. 0. 0. 0. 0. 0. 0. 1. 0. 0.]\n",
            " [0. 0. 0. 0. 0. 0. 0. 0. 0. 1.]\n",
            " [0. 0. 0. 0. 0. 0. 0. 1. 0. 0.]\n",
            " [0. 0. 0. 0. 0. 0. 0. 0. 0. 1.]\n",
            " [0. 0. 0. 0. 0. 0. 0. 0. 1. 0.]\n",
            " [0. 0. 0. 1. 0. 0. 0. 0. 0. 0.]\n",
            " [0. 0. 0. 0. 0. 0. 0. 0. 0. 1.]\n",
            " [0. 0. 0. 0. 0. 0. 0. 1. 0. 0.]\n",
            " [0. 0. 0. 0. 1. 0. 0. 0. 0. 0.]\n",
            " [0. 0. 0. 0. 0. 0. 1. 0. 0. 0.]\n",
            " [0. 0. 0. 0. 0. 0. 0. 1. 0. 0.]\n",
            " [0. 0. 0. 1. 0. 0. 0. 0. 0. 0.]\n",
            " [0. 0. 0. 0. 0. 0. 1. 0. 0. 0.]\n",
            " [0. 0. 0. 0. 0. 0. 0. 0. 1. 0.]\n",
            " [0. 0. 0. 0. 1. 0. 0. 0. 0. 0.]\n",
            " [1. 0. 0. 0. 0. 0. 0. 0. 0. 0.]\n",
            " [0. 0. 0. 1. 0. 0. 0. 0. 0. 0.]\n",
            " [0. 0. 0. 0. 0. 0. 0. 1. 0. 0.]\n",
            " [0. 0. 0. 0. 1. 0. 0. 0. 0. 0.]\n",
            " [0. 0. 0. 0. 0. 0. 0. 1. 0. 0.]\n",
            " [0. 0. 0. 0. 0. 0. 0. 0. 1. 0.]\n",
            " [1. 0. 0. 0. 0. 0. 0. 0. 0. 0.]\n",
            " [1. 0. 0. 0. 0. 0. 0. 0. 0. 0.]\n",
            " [0. 0. 0. 0. 0. 0. 0. 1. 0. 0.]\n",
            " [1. 0. 0. 0. 0. 0. 0. 0. 0. 0.]\n",
            " [0. 1. 0. 0. 0. 0. 0. 0. 0. 0.]\n",
            " [0. 0. 0. 0. 0. 0. 1. 0. 0. 0.]\n",
            " [0. 0. 0. 0. 0. 0. 1. 0. 0. 0.]\n",
            " [0. 0. 0. 0. 0. 0. 0. 0. 0. 1.]\n",
            " [0. 1. 0. 0. 0. 0. 0. 0. 0. 0.]\n",
            " [0. 0. 0. 0. 0. 0. 0. 1. 0. 0.]], shape=(32, 10), dtype=float32)\n"
          ]
        }
      ],
      "source": [
        "for images, labels in train_data_10_percent.take(1):\n",
        "  print(images, labels)"
      ]
    },
    {
      "cell_type": "code",
      "execution_count": 11,
      "metadata": {
        "colab": {
          "base_uri": "https://localhost:8080/"
        },
        "id": "zaU3qm-zDrk6",
        "outputId": "b140c0d6-bbc3-4a5c-ed13-c22aac16cd26"
      },
      "outputs": [
        {
          "output_type": "stream",
          "name": "stdout",
          "text": [
            "Downloading data from https://storage.googleapis.com/tensorflow/keras-applications/efficientnet_v2/efficientnetv2-b0_notop.h5\n",
            "24274472/24274472 [==============================] - 0s 0us/step\n",
            "Shape after passing inputs through base model : (None, 7, 7, 1280)\n",
            "Shape after GlobalAveragePooling2D: (None, 1280)\n",
            "Saving TensorBoard log files to: transfer_learning/10_percent_feature_extraction/20240209-185823\n",
            "Epoch 1/5\n",
            "24/24 [==============================] - 90s 3s/step - loss: 1.8649 - accuracy: 0.4280 - val_loss: 1.2990 - val_accuracy: 0.7352\n",
            "Epoch 2/5\n",
            "24/24 [==============================] - 77s 3s/step - loss: 1.1332 - accuracy: 0.7613 - val_loss: 0.8674 - val_accuracy: 0.8207\n",
            "Epoch 3/5\n",
            "24/24 [==============================] - 84s 4s/step - loss: 0.8432 - accuracy: 0.8133 - val_loss: 0.6841 - val_accuracy: 0.8421\n",
            "Epoch 4/5\n",
            "24/24 [==============================] - 76s 3s/step - loss: 0.6900 - accuracy: 0.8360 - val_loss: 0.6063 - val_accuracy: 0.8536\n",
            "Epoch 5/5\n",
            "24/24 [==============================] - 82s 3s/step - loss: 0.5926 - accuracy: 0.8667 - val_loss: 0.5654 - val_accuracy: 0.8602\n"
          ]
        }
      ],
      "source": [
        "base_model = tf.keras.applications.efficientnet_v2.EfficientNetV2B0(include_top=False)\n",
        "\n",
        "base_model.trainable = False\n",
        "\n",
        "inputs = tf.keras.layers.Input(shape=(224, 224, 3), name=\"input_layer\")\n",
        "\n",
        "#x = tf.keras.layers.experimental.preprocessing.Rescaling(1./255)(inputs)\n",
        "\n",
        "x= base_model(inputs)\n",
        "print(f\"Shape after passing inputs through base model : {x.shape}\")\n",
        "\n",
        "x=tf.keras.layers.GlobalAveragePooling2D(name = \"global_average_pooling_layer\")(x)\n",
        "print(f\"Shape after GlobalAveragePooling2D: {x.shape}\")\n",
        "\n",
        "outputs = tf.keras.layers.Dense(10, activation=\"softmax\", name=\"output_layer\")(x)\n",
        "\n",
        "model_0 = tf.keras.Model(inputs, outputs)\n",
        "\n",
        "model_0.compile(loss=\"categorical_crossentropy\",\n",
        "                optimizer=tf.keras.optimizers.Adam(),\n",
        "                metrics=[\"accuracy\"])\n",
        "\n",
        "history_10_percent = model_0.fit(train_data_10_percent,\n",
        "                                 epochs=5,\n",
        "                                 steps_per_epoch=len(train_data_10_percent),\n",
        "                                 validation_data=test_data,\n",
        "                                 validation_steps=int(0.25 * len(test_data)),\n",
        "                                 callbacks=[create_tensorboard_callback(dir_name=\"transfer_learning\",\n",
        "                                                                        experiment_name=\"10_percent_feature_extraction\")])\n",
        "\n"
      ]
    },
    {
      "cell_type": "code",
      "execution_count": 12,
      "metadata": {
        "colab": {
          "base_uri": "https://localhost:8080/"
        },
        "id": "pTIqaj5-G1AQ",
        "outputId": "d76ee2d2-4de3-4896-c60a-18be16089bf9"
      },
      "outputs": [
        {
          "output_type": "stream",
          "name": "stdout",
          "text": [
            "79/79 [==============================] - 133s 2s/step - loss: 0.5564 - accuracy: 0.8624\n"
          ]
        },
        {
          "output_type": "execute_result",
          "data": {
            "text/plain": [
              "[0.5563699007034302, 0.8623999953269958]"
            ]
          },
          "metadata": {},
          "execution_count": 12
        }
      ],
      "source": [
        "model_0.evaluate(test_data)"
      ]
    },
    {
      "cell_type": "code",
      "execution_count": 13,
      "metadata": {
        "colab": {
          "base_uri": "https://localhost:8080/"
        },
        "id": "LfCfIDsaWlb4",
        "outputId": "c2ca12c3-b65d-474a-99e9-1ae7b1ffff7b"
      },
      "outputs": [
        {
          "output_type": "stream",
          "name": "stdout",
          "text": [
            "0 input_1\n",
            "1 rescaling\n",
            "2 normalization\n",
            "3 stem_conv\n",
            "4 stem_bn\n",
            "5 stem_activation\n",
            "6 block1a_project_conv\n",
            "7 block1a_project_bn\n",
            "8 block1a_project_activation\n",
            "9 block2a_expand_conv\n",
            "10 block2a_expand_bn\n",
            "11 block2a_expand_activation\n",
            "12 block2a_project_conv\n",
            "13 block2a_project_bn\n",
            "14 block2b_expand_conv\n",
            "15 block2b_expand_bn\n",
            "16 block2b_expand_activation\n",
            "17 block2b_project_conv\n",
            "18 block2b_project_bn\n",
            "19 block2b_drop\n",
            "20 block2b_add\n",
            "21 block3a_expand_conv\n",
            "22 block3a_expand_bn\n",
            "23 block3a_expand_activation\n",
            "24 block3a_project_conv\n",
            "25 block3a_project_bn\n",
            "26 block3b_expand_conv\n",
            "27 block3b_expand_bn\n",
            "28 block3b_expand_activation\n",
            "29 block3b_project_conv\n",
            "30 block3b_project_bn\n",
            "31 block3b_drop\n",
            "32 block3b_add\n",
            "33 block4a_expand_conv\n",
            "34 block4a_expand_bn\n",
            "35 block4a_expand_activation\n",
            "36 block4a_dwconv2\n",
            "37 block4a_bn\n",
            "38 block4a_activation\n",
            "39 block4a_se_squeeze\n",
            "40 block4a_se_reshape\n",
            "41 block4a_se_reduce\n",
            "42 block4a_se_expand\n",
            "43 block4a_se_excite\n",
            "44 block4a_project_conv\n",
            "45 block4a_project_bn\n",
            "46 block4b_expand_conv\n",
            "47 block4b_expand_bn\n",
            "48 block4b_expand_activation\n",
            "49 block4b_dwconv2\n",
            "50 block4b_bn\n",
            "51 block4b_activation\n",
            "52 block4b_se_squeeze\n",
            "53 block4b_se_reshape\n",
            "54 block4b_se_reduce\n",
            "55 block4b_se_expand\n",
            "56 block4b_se_excite\n",
            "57 block4b_project_conv\n",
            "58 block4b_project_bn\n",
            "59 block4b_drop\n",
            "60 block4b_add\n",
            "61 block4c_expand_conv\n",
            "62 block4c_expand_bn\n",
            "63 block4c_expand_activation\n",
            "64 block4c_dwconv2\n",
            "65 block4c_bn\n",
            "66 block4c_activation\n",
            "67 block4c_se_squeeze\n",
            "68 block4c_se_reshape\n",
            "69 block4c_se_reduce\n",
            "70 block4c_se_expand\n",
            "71 block4c_se_excite\n",
            "72 block4c_project_conv\n",
            "73 block4c_project_bn\n",
            "74 block4c_drop\n",
            "75 block4c_add\n",
            "76 block5a_expand_conv\n",
            "77 block5a_expand_bn\n",
            "78 block5a_expand_activation\n",
            "79 block5a_dwconv2\n",
            "80 block5a_bn\n",
            "81 block5a_activation\n",
            "82 block5a_se_squeeze\n",
            "83 block5a_se_reshape\n",
            "84 block5a_se_reduce\n",
            "85 block5a_se_expand\n",
            "86 block5a_se_excite\n",
            "87 block5a_project_conv\n",
            "88 block5a_project_bn\n",
            "89 block5b_expand_conv\n",
            "90 block5b_expand_bn\n",
            "91 block5b_expand_activation\n",
            "92 block5b_dwconv2\n",
            "93 block5b_bn\n",
            "94 block5b_activation\n",
            "95 block5b_se_squeeze\n",
            "96 block5b_se_reshape\n",
            "97 block5b_se_reduce\n",
            "98 block5b_se_expand\n",
            "99 block5b_se_excite\n",
            "100 block5b_project_conv\n",
            "101 block5b_project_bn\n",
            "102 block5b_drop\n",
            "103 block5b_add\n",
            "104 block5c_expand_conv\n",
            "105 block5c_expand_bn\n",
            "106 block5c_expand_activation\n",
            "107 block5c_dwconv2\n",
            "108 block5c_bn\n",
            "109 block5c_activation\n",
            "110 block5c_se_squeeze\n",
            "111 block5c_se_reshape\n",
            "112 block5c_se_reduce\n",
            "113 block5c_se_expand\n",
            "114 block5c_se_excite\n",
            "115 block5c_project_conv\n",
            "116 block5c_project_bn\n",
            "117 block5c_drop\n",
            "118 block5c_add\n",
            "119 block5d_expand_conv\n",
            "120 block5d_expand_bn\n",
            "121 block5d_expand_activation\n",
            "122 block5d_dwconv2\n",
            "123 block5d_bn\n",
            "124 block5d_activation\n",
            "125 block5d_se_squeeze\n",
            "126 block5d_se_reshape\n",
            "127 block5d_se_reduce\n",
            "128 block5d_se_expand\n",
            "129 block5d_se_excite\n",
            "130 block5d_project_conv\n",
            "131 block5d_project_bn\n",
            "132 block5d_drop\n",
            "133 block5d_add\n",
            "134 block5e_expand_conv\n",
            "135 block5e_expand_bn\n",
            "136 block5e_expand_activation\n",
            "137 block5e_dwconv2\n",
            "138 block5e_bn\n",
            "139 block5e_activation\n",
            "140 block5e_se_squeeze\n",
            "141 block5e_se_reshape\n",
            "142 block5e_se_reduce\n",
            "143 block5e_se_expand\n",
            "144 block5e_se_excite\n",
            "145 block5e_project_conv\n",
            "146 block5e_project_bn\n",
            "147 block5e_drop\n",
            "148 block5e_add\n",
            "149 block6a_expand_conv\n",
            "150 block6a_expand_bn\n",
            "151 block6a_expand_activation\n",
            "152 block6a_dwconv2\n",
            "153 block6a_bn\n",
            "154 block6a_activation\n",
            "155 block6a_se_squeeze\n",
            "156 block6a_se_reshape\n",
            "157 block6a_se_reduce\n",
            "158 block6a_se_expand\n",
            "159 block6a_se_excite\n",
            "160 block6a_project_conv\n",
            "161 block6a_project_bn\n",
            "162 block6b_expand_conv\n",
            "163 block6b_expand_bn\n",
            "164 block6b_expand_activation\n",
            "165 block6b_dwconv2\n",
            "166 block6b_bn\n",
            "167 block6b_activation\n",
            "168 block6b_se_squeeze\n",
            "169 block6b_se_reshape\n",
            "170 block6b_se_reduce\n",
            "171 block6b_se_expand\n",
            "172 block6b_se_excite\n",
            "173 block6b_project_conv\n",
            "174 block6b_project_bn\n",
            "175 block6b_drop\n",
            "176 block6b_add\n",
            "177 block6c_expand_conv\n",
            "178 block6c_expand_bn\n",
            "179 block6c_expand_activation\n",
            "180 block6c_dwconv2\n",
            "181 block6c_bn\n",
            "182 block6c_activation\n",
            "183 block6c_se_squeeze\n",
            "184 block6c_se_reshape\n",
            "185 block6c_se_reduce\n",
            "186 block6c_se_expand\n",
            "187 block6c_se_excite\n",
            "188 block6c_project_conv\n",
            "189 block6c_project_bn\n",
            "190 block6c_drop\n",
            "191 block6c_add\n",
            "192 block6d_expand_conv\n",
            "193 block6d_expand_bn\n",
            "194 block6d_expand_activation\n",
            "195 block6d_dwconv2\n",
            "196 block6d_bn\n",
            "197 block6d_activation\n",
            "198 block6d_se_squeeze\n",
            "199 block6d_se_reshape\n",
            "200 block6d_se_reduce\n",
            "201 block6d_se_expand\n",
            "202 block6d_se_excite\n",
            "203 block6d_project_conv\n",
            "204 block6d_project_bn\n",
            "205 block6d_drop\n",
            "206 block6d_add\n",
            "207 block6e_expand_conv\n",
            "208 block6e_expand_bn\n",
            "209 block6e_expand_activation\n",
            "210 block6e_dwconv2\n",
            "211 block6e_bn\n",
            "212 block6e_activation\n",
            "213 block6e_se_squeeze\n",
            "214 block6e_se_reshape\n",
            "215 block6e_se_reduce\n",
            "216 block6e_se_expand\n",
            "217 block6e_se_excite\n",
            "218 block6e_project_conv\n",
            "219 block6e_project_bn\n",
            "220 block6e_drop\n",
            "221 block6e_add\n",
            "222 block6f_expand_conv\n",
            "223 block6f_expand_bn\n",
            "224 block6f_expand_activation\n",
            "225 block6f_dwconv2\n",
            "226 block6f_bn\n",
            "227 block6f_activation\n",
            "228 block6f_se_squeeze\n",
            "229 block6f_se_reshape\n",
            "230 block6f_se_reduce\n",
            "231 block6f_se_expand\n",
            "232 block6f_se_excite\n",
            "233 block6f_project_conv\n",
            "234 block6f_project_bn\n",
            "235 block6f_drop\n",
            "236 block6f_add\n",
            "237 block6g_expand_conv\n",
            "238 block6g_expand_bn\n",
            "239 block6g_expand_activation\n",
            "240 block6g_dwconv2\n",
            "241 block6g_bn\n",
            "242 block6g_activation\n",
            "243 block6g_se_squeeze\n",
            "244 block6g_se_reshape\n",
            "245 block6g_se_reduce\n",
            "246 block6g_se_expand\n",
            "247 block6g_se_excite\n",
            "248 block6g_project_conv\n",
            "249 block6g_project_bn\n",
            "250 block6g_drop\n",
            "251 block6g_add\n",
            "252 block6h_expand_conv\n",
            "253 block6h_expand_bn\n",
            "254 block6h_expand_activation\n",
            "255 block6h_dwconv2\n",
            "256 block6h_bn\n",
            "257 block6h_activation\n",
            "258 block6h_se_squeeze\n",
            "259 block6h_se_reshape\n",
            "260 block6h_se_reduce\n",
            "261 block6h_se_expand\n",
            "262 block6h_se_excite\n",
            "263 block6h_project_conv\n",
            "264 block6h_project_bn\n",
            "265 block6h_drop\n",
            "266 block6h_add\n",
            "267 top_conv\n",
            "268 top_bn\n",
            "269 top_activation\n"
          ]
        }
      ],
      "source": [
        "for layer_number, layer in enumerate(base_model.layers):\n",
        "  print(layer_number, layer.name)"
      ]
    },
    {
      "cell_type": "code",
      "execution_count": 14,
      "metadata": {
        "colab": {
          "base_uri": "https://localhost:8080/"
        },
        "id": "PJwJUygIX61h",
        "outputId": "fa2f90ac-6b9e-4c38-caf7-270c2f0361e5"
      },
      "outputs": [
        {
          "output_type": "stream",
          "name": "stdout",
          "text": [
            "Model: \"efficientnetv2-b0\"\n",
            "__________________________________________________________________________________________________\n",
            " Layer (type)                Output Shape                 Param #   Connected to                  \n",
            "==================================================================================================\n",
            " input_1 (InputLayer)        [(None, None, None, 3)]      0         []                            \n",
            "                                                                                                  \n",
            " rescaling (Rescaling)       (None, None, None, 3)        0         ['input_1[0][0]']             \n",
            "                                                                                                  \n",
            " normalization (Normalizati  (None, None, None, 3)        0         ['rescaling[0][0]']           \n",
            " on)                                                                                              \n",
            "                                                                                                  \n",
            " stem_conv (Conv2D)          (None, None, None, 32)       864       ['normalization[0][0]']       \n",
            "                                                                                                  \n",
            " stem_bn (BatchNormalizatio  (None, None, None, 32)       128       ['stem_conv[0][0]']           \n",
            " n)                                                                                               \n",
            "                                                                                                  \n",
            " stem_activation (Activatio  (None, None, None, 32)       0         ['stem_bn[0][0]']             \n",
            " n)                                                                                               \n",
            "                                                                                                  \n",
            " block1a_project_conv (Conv  (None, None, None, 16)       4608      ['stem_activation[0][0]']     \n",
            " 2D)                                                                                              \n",
            "                                                                                                  \n",
            " block1a_project_bn (BatchN  (None, None, None, 16)       64        ['block1a_project_conv[0][0]']\n",
            " ormalization)                                                                                    \n",
            "                                                                                                  \n",
            " block1a_project_activation  (None, None, None, 16)       0         ['block1a_project_bn[0][0]']  \n",
            "  (Activation)                                                                                    \n",
            "                                                                                                  \n",
            " block2a_expand_conv (Conv2  (None, None, None, 64)       9216      ['block1a_project_activation[0\n",
            " D)                                                                 ][0]']                        \n",
            "                                                                                                  \n",
            " block2a_expand_bn (BatchNo  (None, None, None, 64)       256       ['block2a_expand_conv[0][0]'] \n",
            " rmalization)                                                                                     \n",
            "                                                                                                  \n",
            " block2a_expand_activation   (None, None, None, 64)       0         ['block2a_expand_bn[0][0]']   \n",
            " (Activation)                                                                                     \n",
            "                                                                                                  \n",
            " block2a_project_conv (Conv  (None, None, None, 32)       2048      ['block2a_expand_activation[0]\n",
            " 2D)                                                                [0]']                         \n",
            "                                                                                                  \n",
            " block2a_project_bn (BatchN  (None, None, None, 32)       128       ['block2a_project_conv[0][0]']\n",
            " ormalization)                                                                                    \n",
            "                                                                                                  \n",
            " block2b_expand_conv (Conv2  (None, None, None, 128)      36864     ['block2a_project_bn[0][0]']  \n",
            " D)                                                                                               \n",
            "                                                                                                  \n",
            " block2b_expand_bn (BatchNo  (None, None, None, 128)      512       ['block2b_expand_conv[0][0]'] \n",
            " rmalization)                                                                                     \n",
            "                                                                                                  \n",
            " block2b_expand_activation   (None, None, None, 128)      0         ['block2b_expand_bn[0][0]']   \n",
            " (Activation)                                                                                     \n",
            "                                                                                                  \n",
            " block2b_project_conv (Conv  (None, None, None, 32)       4096      ['block2b_expand_activation[0]\n",
            " 2D)                                                                [0]']                         \n",
            "                                                                                                  \n",
            " block2b_project_bn (BatchN  (None, None, None, 32)       128       ['block2b_project_conv[0][0]']\n",
            " ormalization)                                                                                    \n",
            "                                                                                                  \n",
            " block2b_drop (Dropout)      (None, None, None, 32)       0         ['block2b_project_bn[0][0]']  \n",
            "                                                                                                  \n",
            " block2b_add (Add)           (None, None, None, 32)       0         ['block2b_drop[0][0]',        \n",
            "                                                                     'block2a_project_bn[0][0]']  \n",
            "                                                                                                  \n",
            " block3a_expand_conv (Conv2  (None, None, None, 128)      36864     ['block2b_add[0][0]']         \n",
            " D)                                                                                               \n",
            "                                                                                                  \n",
            " block3a_expand_bn (BatchNo  (None, None, None, 128)      512       ['block3a_expand_conv[0][0]'] \n",
            " rmalization)                                                                                     \n",
            "                                                                                                  \n",
            " block3a_expand_activation   (None, None, None, 128)      0         ['block3a_expand_bn[0][0]']   \n",
            " (Activation)                                                                                     \n",
            "                                                                                                  \n",
            " block3a_project_conv (Conv  (None, None, None, 48)       6144      ['block3a_expand_activation[0]\n",
            " 2D)                                                                [0]']                         \n",
            "                                                                                                  \n",
            " block3a_project_bn (BatchN  (None, None, None, 48)       192       ['block3a_project_conv[0][0]']\n",
            " ormalization)                                                                                    \n",
            "                                                                                                  \n",
            " block3b_expand_conv (Conv2  (None, None, None, 192)      82944     ['block3a_project_bn[0][0]']  \n",
            " D)                                                                                               \n",
            "                                                                                                  \n",
            " block3b_expand_bn (BatchNo  (None, None, None, 192)      768       ['block3b_expand_conv[0][0]'] \n",
            " rmalization)                                                                                     \n",
            "                                                                                                  \n",
            " block3b_expand_activation   (None, None, None, 192)      0         ['block3b_expand_bn[0][0]']   \n",
            " (Activation)                                                                                     \n",
            "                                                                                                  \n",
            " block3b_project_conv (Conv  (None, None, None, 48)       9216      ['block3b_expand_activation[0]\n",
            " 2D)                                                                [0]']                         \n",
            "                                                                                                  \n",
            " block3b_project_bn (BatchN  (None, None, None, 48)       192       ['block3b_project_conv[0][0]']\n",
            " ormalization)                                                                                    \n",
            "                                                                                                  \n",
            " block3b_drop (Dropout)      (None, None, None, 48)       0         ['block3b_project_bn[0][0]']  \n",
            "                                                                                                  \n",
            " block3b_add (Add)           (None, None, None, 48)       0         ['block3b_drop[0][0]',        \n",
            "                                                                     'block3a_project_bn[0][0]']  \n",
            "                                                                                                  \n",
            " block4a_expand_conv (Conv2  (None, None, None, 192)      9216      ['block3b_add[0][0]']         \n",
            " D)                                                                                               \n",
            "                                                                                                  \n",
            " block4a_expand_bn (BatchNo  (None, None, None, 192)      768       ['block4a_expand_conv[0][0]'] \n",
            " rmalization)                                                                                     \n",
            "                                                                                                  \n",
            " block4a_expand_activation   (None, None, None, 192)      0         ['block4a_expand_bn[0][0]']   \n",
            " (Activation)                                                                                     \n",
            "                                                                                                  \n",
            " block4a_dwconv2 (Depthwise  (None, None, None, 192)      1728      ['block4a_expand_activation[0]\n",
            " Conv2D)                                                            [0]']                         \n",
            "                                                                                                  \n",
            " block4a_bn (BatchNormaliza  (None, None, None, 192)      768       ['block4a_dwconv2[0][0]']     \n",
            " tion)                                                                                            \n",
            "                                                                                                  \n",
            " block4a_activation (Activa  (None, None, None, 192)      0         ['block4a_bn[0][0]']          \n",
            " tion)                                                                                            \n",
            "                                                                                                  \n",
            " block4a_se_squeeze (Global  (None, 192)                  0         ['block4a_activation[0][0]']  \n",
            " AveragePooling2D)                                                                                \n",
            "                                                                                                  \n",
            " block4a_se_reshape (Reshap  (None, 1, 1, 192)            0         ['block4a_se_squeeze[0][0]']  \n",
            " e)                                                                                               \n",
            "                                                                                                  \n",
            " block4a_se_reduce (Conv2D)  (None, 1, 1, 12)             2316      ['block4a_se_reshape[0][0]']  \n",
            "                                                                                                  \n",
            " block4a_se_expand (Conv2D)  (None, 1, 1, 192)            2496      ['block4a_se_reduce[0][0]']   \n",
            "                                                                                                  \n",
            " block4a_se_excite (Multipl  (None, None, None, 192)      0         ['block4a_activation[0][0]',  \n",
            " y)                                                                  'block4a_se_expand[0][0]']   \n",
            "                                                                                                  \n",
            " block4a_project_conv (Conv  (None, None, None, 96)       18432     ['block4a_se_excite[0][0]']   \n",
            " 2D)                                                                                              \n",
            "                                                                                                  \n",
            " block4a_project_bn (BatchN  (None, None, None, 96)       384       ['block4a_project_conv[0][0]']\n",
            " ormalization)                                                                                    \n",
            "                                                                                                  \n",
            " block4b_expand_conv (Conv2  (None, None, None, 384)      36864     ['block4a_project_bn[0][0]']  \n",
            " D)                                                                                               \n",
            "                                                                                                  \n",
            " block4b_expand_bn (BatchNo  (None, None, None, 384)      1536      ['block4b_expand_conv[0][0]'] \n",
            " rmalization)                                                                                     \n",
            "                                                                                                  \n",
            " block4b_expand_activation   (None, None, None, 384)      0         ['block4b_expand_bn[0][0]']   \n",
            " (Activation)                                                                                     \n",
            "                                                                                                  \n",
            " block4b_dwconv2 (Depthwise  (None, None, None, 384)      3456      ['block4b_expand_activation[0]\n",
            " Conv2D)                                                            [0]']                         \n",
            "                                                                                                  \n",
            " block4b_bn (BatchNormaliza  (None, None, None, 384)      1536      ['block4b_dwconv2[0][0]']     \n",
            " tion)                                                                                            \n",
            "                                                                                                  \n",
            " block4b_activation (Activa  (None, None, None, 384)      0         ['block4b_bn[0][0]']          \n",
            " tion)                                                                                            \n",
            "                                                                                                  \n",
            " block4b_se_squeeze (Global  (None, 384)                  0         ['block4b_activation[0][0]']  \n",
            " AveragePooling2D)                                                                                \n",
            "                                                                                                  \n",
            " block4b_se_reshape (Reshap  (None, 1, 1, 384)            0         ['block4b_se_squeeze[0][0]']  \n",
            " e)                                                                                               \n",
            "                                                                                                  \n",
            " block4b_se_reduce (Conv2D)  (None, 1, 1, 24)             9240      ['block4b_se_reshape[0][0]']  \n",
            "                                                                                                  \n",
            " block4b_se_expand (Conv2D)  (None, 1, 1, 384)            9600      ['block4b_se_reduce[0][0]']   \n",
            "                                                                                                  \n",
            " block4b_se_excite (Multipl  (None, None, None, 384)      0         ['block4b_activation[0][0]',  \n",
            " y)                                                                  'block4b_se_expand[0][0]']   \n",
            "                                                                                                  \n",
            " block4b_project_conv (Conv  (None, None, None, 96)       36864     ['block4b_se_excite[0][0]']   \n",
            " 2D)                                                                                              \n",
            "                                                                                                  \n",
            " block4b_project_bn (BatchN  (None, None, None, 96)       384       ['block4b_project_conv[0][0]']\n",
            " ormalization)                                                                                    \n",
            "                                                                                                  \n",
            " block4b_drop (Dropout)      (None, None, None, 96)       0         ['block4b_project_bn[0][0]']  \n",
            "                                                                                                  \n",
            " block4b_add (Add)           (None, None, None, 96)       0         ['block4b_drop[0][0]',        \n",
            "                                                                     'block4a_project_bn[0][0]']  \n",
            "                                                                                                  \n",
            " block4c_expand_conv (Conv2  (None, None, None, 384)      36864     ['block4b_add[0][0]']         \n",
            " D)                                                                                               \n",
            "                                                                                                  \n",
            " block4c_expand_bn (BatchNo  (None, None, None, 384)      1536      ['block4c_expand_conv[0][0]'] \n",
            " rmalization)                                                                                     \n",
            "                                                                                                  \n",
            " block4c_expand_activation   (None, None, None, 384)      0         ['block4c_expand_bn[0][0]']   \n",
            " (Activation)                                                                                     \n",
            "                                                                                                  \n",
            " block4c_dwconv2 (Depthwise  (None, None, None, 384)      3456      ['block4c_expand_activation[0]\n",
            " Conv2D)                                                            [0]']                         \n",
            "                                                                                                  \n",
            " block4c_bn (BatchNormaliza  (None, None, None, 384)      1536      ['block4c_dwconv2[0][0]']     \n",
            " tion)                                                                                            \n",
            "                                                                                                  \n",
            " block4c_activation (Activa  (None, None, None, 384)      0         ['block4c_bn[0][0]']          \n",
            " tion)                                                                                            \n",
            "                                                                                                  \n",
            " block4c_se_squeeze (Global  (None, 384)                  0         ['block4c_activation[0][0]']  \n",
            " AveragePooling2D)                                                                                \n",
            "                                                                                                  \n",
            " block4c_se_reshape (Reshap  (None, 1, 1, 384)            0         ['block4c_se_squeeze[0][0]']  \n",
            " e)                                                                                               \n",
            "                                                                                                  \n",
            " block4c_se_reduce (Conv2D)  (None, 1, 1, 24)             9240      ['block4c_se_reshape[0][0]']  \n",
            "                                                                                                  \n",
            " block4c_se_expand (Conv2D)  (None, 1, 1, 384)            9600      ['block4c_se_reduce[0][0]']   \n",
            "                                                                                                  \n",
            " block4c_se_excite (Multipl  (None, None, None, 384)      0         ['block4c_activation[0][0]',  \n",
            " y)                                                                  'block4c_se_expand[0][0]']   \n",
            "                                                                                                  \n",
            " block4c_project_conv (Conv  (None, None, None, 96)       36864     ['block4c_se_excite[0][0]']   \n",
            " 2D)                                                                                              \n",
            "                                                                                                  \n",
            " block4c_project_bn (BatchN  (None, None, None, 96)       384       ['block4c_project_conv[0][0]']\n",
            " ormalization)                                                                                    \n",
            "                                                                                                  \n",
            " block4c_drop (Dropout)      (None, None, None, 96)       0         ['block4c_project_bn[0][0]']  \n",
            "                                                                                                  \n",
            " block4c_add (Add)           (None, None, None, 96)       0         ['block4c_drop[0][0]',        \n",
            "                                                                     'block4b_add[0][0]']         \n",
            "                                                                                                  \n",
            " block5a_expand_conv (Conv2  (None, None, None, 576)      55296     ['block4c_add[0][0]']         \n",
            " D)                                                                                               \n",
            "                                                                                                  \n",
            " block5a_expand_bn (BatchNo  (None, None, None, 576)      2304      ['block5a_expand_conv[0][0]'] \n",
            " rmalization)                                                                                     \n",
            "                                                                                                  \n",
            " block5a_expand_activation   (None, None, None, 576)      0         ['block5a_expand_bn[0][0]']   \n",
            " (Activation)                                                                                     \n",
            "                                                                                                  \n",
            " block5a_dwconv2 (Depthwise  (None, None, None, 576)      5184      ['block5a_expand_activation[0]\n",
            " Conv2D)                                                            [0]']                         \n",
            "                                                                                                  \n",
            " block5a_bn (BatchNormaliza  (None, None, None, 576)      2304      ['block5a_dwconv2[0][0]']     \n",
            " tion)                                                                                            \n",
            "                                                                                                  \n",
            " block5a_activation (Activa  (None, None, None, 576)      0         ['block5a_bn[0][0]']          \n",
            " tion)                                                                                            \n",
            "                                                                                                  \n",
            " block5a_se_squeeze (Global  (None, 576)                  0         ['block5a_activation[0][0]']  \n",
            " AveragePooling2D)                                                                                \n",
            "                                                                                                  \n",
            " block5a_se_reshape (Reshap  (None, 1, 1, 576)            0         ['block5a_se_squeeze[0][0]']  \n",
            " e)                                                                                               \n",
            "                                                                                                  \n",
            " block5a_se_reduce (Conv2D)  (None, 1, 1, 24)             13848     ['block5a_se_reshape[0][0]']  \n",
            "                                                                                                  \n",
            " block5a_se_expand (Conv2D)  (None, 1, 1, 576)            14400     ['block5a_se_reduce[0][0]']   \n",
            "                                                                                                  \n",
            " block5a_se_excite (Multipl  (None, None, None, 576)      0         ['block5a_activation[0][0]',  \n",
            " y)                                                                  'block5a_se_expand[0][0]']   \n",
            "                                                                                                  \n",
            " block5a_project_conv (Conv  (None, None, None, 112)      64512     ['block5a_se_excite[0][0]']   \n",
            " 2D)                                                                                              \n",
            "                                                                                                  \n",
            " block5a_project_bn (BatchN  (None, None, None, 112)      448       ['block5a_project_conv[0][0]']\n",
            " ormalization)                                                                                    \n",
            "                                                                                                  \n",
            " block5b_expand_conv (Conv2  (None, None, None, 672)      75264     ['block5a_project_bn[0][0]']  \n",
            " D)                                                                                               \n",
            "                                                                                                  \n",
            " block5b_expand_bn (BatchNo  (None, None, None, 672)      2688      ['block5b_expand_conv[0][0]'] \n",
            " rmalization)                                                                                     \n",
            "                                                                                                  \n",
            " block5b_expand_activation   (None, None, None, 672)      0         ['block5b_expand_bn[0][0]']   \n",
            " (Activation)                                                                                     \n",
            "                                                                                                  \n",
            " block5b_dwconv2 (Depthwise  (None, None, None, 672)      6048      ['block5b_expand_activation[0]\n",
            " Conv2D)                                                            [0]']                         \n",
            "                                                                                                  \n",
            " block5b_bn (BatchNormaliza  (None, None, None, 672)      2688      ['block5b_dwconv2[0][0]']     \n",
            " tion)                                                                                            \n",
            "                                                                                                  \n",
            " block5b_activation (Activa  (None, None, None, 672)      0         ['block5b_bn[0][0]']          \n",
            " tion)                                                                                            \n",
            "                                                                                                  \n",
            " block5b_se_squeeze (Global  (None, 672)                  0         ['block5b_activation[0][0]']  \n",
            " AveragePooling2D)                                                                                \n",
            "                                                                                                  \n",
            " block5b_se_reshape (Reshap  (None, 1, 1, 672)            0         ['block5b_se_squeeze[0][0]']  \n",
            " e)                                                                                               \n",
            "                                                                                                  \n",
            " block5b_se_reduce (Conv2D)  (None, 1, 1, 28)             18844     ['block5b_se_reshape[0][0]']  \n",
            "                                                                                                  \n",
            " block5b_se_expand (Conv2D)  (None, 1, 1, 672)            19488     ['block5b_se_reduce[0][0]']   \n",
            "                                                                                                  \n",
            " block5b_se_excite (Multipl  (None, None, None, 672)      0         ['block5b_activation[0][0]',  \n",
            " y)                                                                  'block5b_se_expand[0][0]']   \n",
            "                                                                                                  \n",
            " block5b_project_conv (Conv  (None, None, None, 112)      75264     ['block5b_se_excite[0][0]']   \n",
            " 2D)                                                                                              \n",
            "                                                                                                  \n",
            " block5b_project_bn (BatchN  (None, None, None, 112)      448       ['block5b_project_conv[0][0]']\n",
            " ormalization)                                                                                    \n",
            "                                                                                                  \n",
            " block5b_drop (Dropout)      (None, None, None, 112)      0         ['block5b_project_bn[0][0]']  \n",
            "                                                                                                  \n",
            " block5b_add (Add)           (None, None, None, 112)      0         ['block5b_drop[0][0]',        \n",
            "                                                                     'block5a_project_bn[0][0]']  \n",
            "                                                                                                  \n",
            " block5c_expand_conv (Conv2  (None, None, None, 672)      75264     ['block5b_add[0][0]']         \n",
            " D)                                                                                               \n",
            "                                                                                                  \n",
            " block5c_expand_bn (BatchNo  (None, None, None, 672)      2688      ['block5c_expand_conv[0][0]'] \n",
            " rmalization)                                                                                     \n",
            "                                                                                                  \n",
            " block5c_expand_activation   (None, None, None, 672)      0         ['block5c_expand_bn[0][0]']   \n",
            " (Activation)                                                                                     \n",
            "                                                                                                  \n",
            " block5c_dwconv2 (Depthwise  (None, None, None, 672)      6048      ['block5c_expand_activation[0]\n",
            " Conv2D)                                                            [0]']                         \n",
            "                                                                                                  \n",
            " block5c_bn (BatchNormaliza  (None, None, None, 672)      2688      ['block5c_dwconv2[0][0]']     \n",
            " tion)                                                                                            \n",
            "                                                                                                  \n",
            " block5c_activation (Activa  (None, None, None, 672)      0         ['block5c_bn[0][0]']          \n",
            " tion)                                                                                            \n",
            "                                                                                                  \n",
            " block5c_se_squeeze (Global  (None, 672)                  0         ['block5c_activation[0][0]']  \n",
            " AveragePooling2D)                                                                                \n",
            "                                                                                                  \n",
            " block5c_se_reshape (Reshap  (None, 1, 1, 672)            0         ['block5c_se_squeeze[0][0]']  \n",
            " e)                                                                                               \n",
            "                                                                                                  \n",
            " block5c_se_reduce (Conv2D)  (None, 1, 1, 28)             18844     ['block5c_se_reshape[0][0]']  \n",
            "                                                                                                  \n",
            " block5c_se_expand (Conv2D)  (None, 1, 1, 672)            19488     ['block5c_se_reduce[0][0]']   \n",
            "                                                                                                  \n",
            " block5c_se_excite (Multipl  (None, None, None, 672)      0         ['block5c_activation[0][0]',  \n",
            " y)                                                                  'block5c_se_expand[0][0]']   \n",
            "                                                                                                  \n",
            " block5c_project_conv (Conv  (None, None, None, 112)      75264     ['block5c_se_excite[0][0]']   \n",
            " 2D)                                                                                              \n",
            "                                                                                                  \n",
            " block5c_project_bn (BatchN  (None, None, None, 112)      448       ['block5c_project_conv[0][0]']\n",
            " ormalization)                                                                                    \n",
            "                                                                                                  \n",
            " block5c_drop (Dropout)      (None, None, None, 112)      0         ['block5c_project_bn[0][0]']  \n",
            "                                                                                                  \n",
            " block5c_add (Add)           (None, None, None, 112)      0         ['block5c_drop[0][0]',        \n",
            "                                                                     'block5b_add[0][0]']         \n",
            "                                                                                                  \n",
            " block5d_expand_conv (Conv2  (None, None, None, 672)      75264     ['block5c_add[0][0]']         \n",
            " D)                                                                                               \n",
            "                                                                                                  \n",
            " block5d_expand_bn (BatchNo  (None, None, None, 672)      2688      ['block5d_expand_conv[0][0]'] \n",
            " rmalization)                                                                                     \n",
            "                                                                                                  \n",
            " block5d_expand_activation   (None, None, None, 672)      0         ['block5d_expand_bn[0][0]']   \n",
            " (Activation)                                                                                     \n",
            "                                                                                                  \n",
            " block5d_dwconv2 (Depthwise  (None, None, None, 672)      6048      ['block5d_expand_activation[0]\n",
            " Conv2D)                                                            [0]']                         \n",
            "                                                                                                  \n",
            " block5d_bn (BatchNormaliza  (None, None, None, 672)      2688      ['block5d_dwconv2[0][0]']     \n",
            " tion)                                                                                            \n",
            "                                                                                                  \n",
            " block5d_activation (Activa  (None, None, None, 672)      0         ['block5d_bn[0][0]']          \n",
            " tion)                                                                                            \n",
            "                                                                                                  \n",
            " block5d_se_squeeze (Global  (None, 672)                  0         ['block5d_activation[0][0]']  \n",
            " AveragePooling2D)                                                                                \n",
            "                                                                                                  \n",
            " block5d_se_reshape (Reshap  (None, 1, 1, 672)            0         ['block5d_se_squeeze[0][0]']  \n",
            " e)                                                                                               \n",
            "                                                                                                  \n",
            " block5d_se_reduce (Conv2D)  (None, 1, 1, 28)             18844     ['block5d_se_reshape[0][0]']  \n",
            "                                                                                                  \n",
            " block5d_se_expand (Conv2D)  (None, 1, 1, 672)            19488     ['block5d_se_reduce[0][0]']   \n",
            "                                                                                                  \n",
            " block5d_se_excite (Multipl  (None, None, None, 672)      0         ['block5d_activation[0][0]',  \n",
            " y)                                                                  'block5d_se_expand[0][0]']   \n",
            "                                                                                                  \n",
            " block5d_project_conv (Conv  (None, None, None, 112)      75264     ['block5d_se_excite[0][0]']   \n",
            " 2D)                                                                                              \n",
            "                                                                                                  \n",
            " block5d_project_bn (BatchN  (None, None, None, 112)      448       ['block5d_project_conv[0][0]']\n",
            " ormalization)                                                                                    \n",
            "                                                                                                  \n",
            " block5d_drop (Dropout)      (None, None, None, 112)      0         ['block5d_project_bn[0][0]']  \n",
            "                                                                                                  \n",
            " block5d_add (Add)           (None, None, None, 112)      0         ['block5d_drop[0][0]',        \n",
            "                                                                     'block5c_add[0][0]']         \n",
            "                                                                                                  \n",
            " block5e_expand_conv (Conv2  (None, None, None, 672)      75264     ['block5d_add[0][0]']         \n",
            " D)                                                                                               \n",
            "                                                                                                  \n",
            " block5e_expand_bn (BatchNo  (None, None, None, 672)      2688      ['block5e_expand_conv[0][0]'] \n",
            " rmalization)                                                                                     \n",
            "                                                                                                  \n",
            " block5e_expand_activation   (None, None, None, 672)      0         ['block5e_expand_bn[0][0]']   \n",
            " (Activation)                                                                                     \n",
            "                                                                                                  \n",
            " block5e_dwconv2 (Depthwise  (None, None, None, 672)      6048      ['block5e_expand_activation[0]\n",
            " Conv2D)                                                            [0]']                         \n",
            "                                                                                                  \n",
            " block5e_bn (BatchNormaliza  (None, None, None, 672)      2688      ['block5e_dwconv2[0][0]']     \n",
            " tion)                                                                                            \n",
            "                                                                                                  \n",
            " block5e_activation (Activa  (None, None, None, 672)      0         ['block5e_bn[0][0]']          \n",
            " tion)                                                                                            \n",
            "                                                                                                  \n",
            " block5e_se_squeeze (Global  (None, 672)                  0         ['block5e_activation[0][0]']  \n",
            " AveragePooling2D)                                                                                \n",
            "                                                                                                  \n",
            " block5e_se_reshape (Reshap  (None, 1, 1, 672)            0         ['block5e_se_squeeze[0][0]']  \n",
            " e)                                                                                               \n",
            "                                                                                                  \n",
            " block5e_se_reduce (Conv2D)  (None, 1, 1, 28)             18844     ['block5e_se_reshape[0][0]']  \n",
            "                                                                                                  \n",
            " block5e_se_expand (Conv2D)  (None, 1, 1, 672)            19488     ['block5e_se_reduce[0][0]']   \n",
            "                                                                                                  \n",
            " block5e_se_excite (Multipl  (None, None, None, 672)      0         ['block5e_activation[0][0]',  \n",
            " y)                                                                  'block5e_se_expand[0][0]']   \n",
            "                                                                                                  \n",
            " block5e_project_conv (Conv  (None, None, None, 112)      75264     ['block5e_se_excite[0][0]']   \n",
            " 2D)                                                                                              \n",
            "                                                                                                  \n",
            " block5e_project_bn (BatchN  (None, None, None, 112)      448       ['block5e_project_conv[0][0]']\n",
            " ormalization)                                                                                    \n",
            "                                                                                                  \n",
            " block5e_drop (Dropout)      (None, None, None, 112)      0         ['block5e_project_bn[0][0]']  \n",
            "                                                                                                  \n",
            " block5e_add (Add)           (None, None, None, 112)      0         ['block5e_drop[0][0]',        \n",
            "                                                                     'block5d_add[0][0]']         \n",
            "                                                                                                  \n",
            " block6a_expand_conv (Conv2  (None, None, None, 672)      75264     ['block5e_add[0][0]']         \n",
            " D)                                                                                               \n",
            "                                                                                                  \n",
            " block6a_expand_bn (BatchNo  (None, None, None, 672)      2688      ['block6a_expand_conv[0][0]'] \n",
            " rmalization)                                                                                     \n",
            "                                                                                                  \n",
            " block6a_expand_activation   (None, None, None, 672)      0         ['block6a_expand_bn[0][0]']   \n",
            " (Activation)                                                                                     \n",
            "                                                                                                  \n",
            " block6a_dwconv2 (Depthwise  (None, None, None, 672)      6048      ['block6a_expand_activation[0]\n",
            " Conv2D)                                                            [0]']                         \n",
            "                                                                                                  \n",
            " block6a_bn (BatchNormaliza  (None, None, None, 672)      2688      ['block6a_dwconv2[0][0]']     \n",
            " tion)                                                                                            \n",
            "                                                                                                  \n",
            " block6a_activation (Activa  (None, None, None, 672)      0         ['block6a_bn[0][0]']          \n",
            " tion)                                                                                            \n",
            "                                                                                                  \n",
            " block6a_se_squeeze (Global  (None, 672)                  0         ['block6a_activation[0][0]']  \n",
            " AveragePooling2D)                                                                                \n",
            "                                                                                                  \n",
            " block6a_se_reshape (Reshap  (None, 1, 1, 672)            0         ['block6a_se_squeeze[0][0]']  \n",
            " e)                                                                                               \n",
            "                                                                                                  \n",
            " block6a_se_reduce (Conv2D)  (None, 1, 1, 28)             18844     ['block6a_se_reshape[0][0]']  \n",
            "                                                                                                  \n",
            " block6a_se_expand (Conv2D)  (None, 1, 1, 672)            19488     ['block6a_se_reduce[0][0]']   \n",
            "                                                                                                  \n",
            " block6a_se_excite (Multipl  (None, None, None, 672)      0         ['block6a_activation[0][0]',  \n",
            " y)                                                                  'block6a_se_expand[0][0]']   \n",
            "                                                                                                  \n",
            " block6a_project_conv (Conv  (None, None, None, 192)      129024    ['block6a_se_excite[0][0]']   \n",
            " 2D)                                                                                              \n",
            "                                                                                                  \n",
            " block6a_project_bn (BatchN  (None, None, None, 192)      768       ['block6a_project_conv[0][0]']\n",
            " ormalization)                                                                                    \n",
            "                                                                                                  \n",
            " block6b_expand_conv (Conv2  (None, None, None, 1152)     221184    ['block6a_project_bn[0][0]']  \n",
            " D)                                                                                               \n",
            "                                                                                                  \n",
            " block6b_expand_bn (BatchNo  (None, None, None, 1152)     4608      ['block6b_expand_conv[0][0]'] \n",
            " rmalization)                                                                                     \n",
            "                                                                                                  \n",
            " block6b_expand_activation   (None, None, None, 1152)     0         ['block6b_expand_bn[0][0]']   \n",
            " (Activation)                                                                                     \n",
            "                                                                                                  \n",
            " block6b_dwconv2 (Depthwise  (None, None, None, 1152)     10368     ['block6b_expand_activation[0]\n",
            " Conv2D)                                                            [0]']                         \n",
            "                                                                                                  \n",
            " block6b_bn (BatchNormaliza  (None, None, None, 1152)     4608      ['block6b_dwconv2[0][0]']     \n",
            " tion)                                                                                            \n",
            "                                                                                                  \n",
            " block6b_activation (Activa  (None, None, None, 1152)     0         ['block6b_bn[0][0]']          \n",
            " tion)                                                                                            \n",
            "                                                                                                  \n",
            " block6b_se_squeeze (Global  (None, 1152)                 0         ['block6b_activation[0][0]']  \n",
            " AveragePooling2D)                                                                                \n",
            "                                                                                                  \n",
            " block6b_se_reshape (Reshap  (None, 1, 1, 1152)           0         ['block6b_se_squeeze[0][0]']  \n",
            " e)                                                                                               \n",
            "                                                                                                  \n",
            " block6b_se_reduce (Conv2D)  (None, 1, 1, 48)             55344     ['block6b_se_reshape[0][0]']  \n",
            "                                                                                                  \n",
            " block6b_se_expand (Conv2D)  (None, 1, 1, 1152)           56448     ['block6b_se_reduce[0][0]']   \n",
            "                                                                                                  \n",
            " block6b_se_excite (Multipl  (None, None, None, 1152)     0         ['block6b_activation[0][0]',  \n",
            " y)                                                                  'block6b_se_expand[0][0]']   \n",
            "                                                                                                  \n",
            " block6b_project_conv (Conv  (None, None, None, 192)      221184    ['block6b_se_excite[0][0]']   \n",
            " 2D)                                                                                              \n",
            "                                                                                                  \n",
            " block6b_project_bn (BatchN  (None, None, None, 192)      768       ['block6b_project_conv[0][0]']\n",
            " ormalization)                                                                                    \n",
            "                                                                                                  \n",
            " block6b_drop (Dropout)      (None, None, None, 192)      0         ['block6b_project_bn[0][0]']  \n",
            "                                                                                                  \n",
            " block6b_add (Add)           (None, None, None, 192)      0         ['block6b_drop[0][0]',        \n",
            "                                                                     'block6a_project_bn[0][0]']  \n",
            "                                                                                                  \n",
            " block6c_expand_conv (Conv2  (None, None, None, 1152)     221184    ['block6b_add[0][0]']         \n",
            " D)                                                                                               \n",
            "                                                                                                  \n",
            " block6c_expand_bn (BatchNo  (None, None, None, 1152)     4608      ['block6c_expand_conv[0][0]'] \n",
            " rmalization)                                                                                     \n",
            "                                                                                                  \n",
            " block6c_expand_activation   (None, None, None, 1152)     0         ['block6c_expand_bn[0][0]']   \n",
            " (Activation)                                                                                     \n",
            "                                                                                                  \n",
            " block6c_dwconv2 (Depthwise  (None, None, None, 1152)     10368     ['block6c_expand_activation[0]\n",
            " Conv2D)                                                            [0]']                         \n",
            "                                                                                                  \n",
            " block6c_bn (BatchNormaliza  (None, None, None, 1152)     4608      ['block6c_dwconv2[0][0]']     \n",
            " tion)                                                                                            \n",
            "                                                                                                  \n",
            " block6c_activation (Activa  (None, None, None, 1152)     0         ['block6c_bn[0][0]']          \n",
            " tion)                                                                                            \n",
            "                                                                                                  \n",
            " block6c_se_squeeze (Global  (None, 1152)                 0         ['block6c_activation[0][0]']  \n",
            " AveragePooling2D)                                                                                \n",
            "                                                                                                  \n",
            " block6c_se_reshape (Reshap  (None, 1, 1, 1152)           0         ['block6c_se_squeeze[0][0]']  \n",
            " e)                                                                                               \n",
            "                                                                                                  \n",
            " block6c_se_reduce (Conv2D)  (None, 1, 1, 48)             55344     ['block6c_se_reshape[0][0]']  \n",
            "                                                                                                  \n",
            " block6c_se_expand (Conv2D)  (None, 1, 1, 1152)           56448     ['block6c_se_reduce[0][0]']   \n",
            "                                                                                                  \n",
            " block6c_se_excite (Multipl  (None, None, None, 1152)     0         ['block6c_activation[0][0]',  \n",
            " y)                                                                  'block6c_se_expand[0][0]']   \n",
            "                                                                                                  \n",
            " block6c_project_conv (Conv  (None, None, None, 192)      221184    ['block6c_se_excite[0][0]']   \n",
            " 2D)                                                                                              \n",
            "                                                                                                  \n",
            " block6c_project_bn (BatchN  (None, None, None, 192)      768       ['block6c_project_conv[0][0]']\n",
            " ormalization)                                                                                    \n",
            "                                                                                                  \n",
            " block6c_drop (Dropout)      (None, None, None, 192)      0         ['block6c_project_bn[0][0]']  \n",
            "                                                                                                  \n",
            " block6c_add (Add)           (None, None, None, 192)      0         ['block6c_drop[0][0]',        \n",
            "                                                                     'block6b_add[0][0]']         \n",
            "                                                                                                  \n",
            " block6d_expand_conv (Conv2  (None, None, None, 1152)     221184    ['block6c_add[0][0]']         \n",
            " D)                                                                                               \n",
            "                                                                                                  \n",
            " block6d_expand_bn (BatchNo  (None, None, None, 1152)     4608      ['block6d_expand_conv[0][0]'] \n",
            " rmalization)                                                                                     \n",
            "                                                                                                  \n",
            " block6d_expand_activation   (None, None, None, 1152)     0         ['block6d_expand_bn[0][0]']   \n",
            " (Activation)                                                                                     \n",
            "                                                                                                  \n",
            " block6d_dwconv2 (Depthwise  (None, None, None, 1152)     10368     ['block6d_expand_activation[0]\n",
            " Conv2D)                                                            [0]']                         \n",
            "                                                                                                  \n",
            " block6d_bn (BatchNormaliza  (None, None, None, 1152)     4608      ['block6d_dwconv2[0][0]']     \n",
            " tion)                                                                                            \n",
            "                                                                                                  \n",
            " block6d_activation (Activa  (None, None, None, 1152)     0         ['block6d_bn[0][0]']          \n",
            " tion)                                                                                            \n",
            "                                                                                                  \n",
            " block6d_se_squeeze (Global  (None, 1152)                 0         ['block6d_activation[0][0]']  \n",
            " AveragePooling2D)                                                                                \n",
            "                                                                                                  \n",
            " block6d_se_reshape (Reshap  (None, 1, 1, 1152)           0         ['block6d_se_squeeze[0][0]']  \n",
            " e)                                                                                               \n",
            "                                                                                                  \n",
            " block6d_se_reduce (Conv2D)  (None, 1, 1, 48)             55344     ['block6d_se_reshape[0][0]']  \n",
            "                                                                                                  \n",
            " block6d_se_expand (Conv2D)  (None, 1, 1, 1152)           56448     ['block6d_se_reduce[0][0]']   \n",
            "                                                                                                  \n",
            " block6d_se_excite (Multipl  (None, None, None, 1152)     0         ['block6d_activation[0][0]',  \n",
            " y)                                                                  'block6d_se_expand[0][0]']   \n",
            "                                                                                                  \n",
            " block6d_project_conv (Conv  (None, None, None, 192)      221184    ['block6d_se_excite[0][0]']   \n",
            " 2D)                                                                                              \n",
            "                                                                                                  \n",
            " block6d_project_bn (BatchN  (None, None, None, 192)      768       ['block6d_project_conv[0][0]']\n",
            " ormalization)                                                                                    \n",
            "                                                                                                  \n",
            " block6d_drop (Dropout)      (None, None, None, 192)      0         ['block6d_project_bn[0][0]']  \n",
            "                                                                                                  \n",
            " block6d_add (Add)           (None, None, None, 192)      0         ['block6d_drop[0][0]',        \n",
            "                                                                     'block6c_add[0][0]']         \n",
            "                                                                                                  \n",
            " block6e_expand_conv (Conv2  (None, None, None, 1152)     221184    ['block6d_add[0][0]']         \n",
            " D)                                                                                               \n",
            "                                                                                                  \n",
            " block6e_expand_bn (BatchNo  (None, None, None, 1152)     4608      ['block6e_expand_conv[0][0]'] \n",
            " rmalization)                                                                                     \n",
            "                                                                                                  \n",
            " block6e_expand_activation   (None, None, None, 1152)     0         ['block6e_expand_bn[0][0]']   \n",
            " (Activation)                                                                                     \n",
            "                                                                                                  \n",
            " block6e_dwconv2 (Depthwise  (None, None, None, 1152)     10368     ['block6e_expand_activation[0]\n",
            " Conv2D)                                                            [0]']                         \n",
            "                                                                                                  \n",
            " block6e_bn (BatchNormaliza  (None, None, None, 1152)     4608      ['block6e_dwconv2[0][0]']     \n",
            " tion)                                                                                            \n",
            "                                                                                                  \n",
            " block6e_activation (Activa  (None, None, None, 1152)     0         ['block6e_bn[0][0]']          \n",
            " tion)                                                                                            \n",
            "                                                                                                  \n",
            " block6e_se_squeeze (Global  (None, 1152)                 0         ['block6e_activation[0][0]']  \n",
            " AveragePooling2D)                                                                                \n",
            "                                                                                                  \n",
            " block6e_se_reshape (Reshap  (None, 1, 1, 1152)           0         ['block6e_se_squeeze[0][0]']  \n",
            " e)                                                                                               \n",
            "                                                                                                  \n",
            " block6e_se_reduce (Conv2D)  (None, 1, 1, 48)             55344     ['block6e_se_reshape[0][0]']  \n",
            "                                                                                                  \n",
            " block6e_se_expand (Conv2D)  (None, 1, 1, 1152)           56448     ['block6e_se_reduce[0][0]']   \n",
            "                                                                                                  \n",
            " block6e_se_excite (Multipl  (None, None, None, 1152)     0         ['block6e_activation[0][0]',  \n",
            " y)                                                                  'block6e_se_expand[0][0]']   \n",
            "                                                                                                  \n",
            " block6e_project_conv (Conv  (None, None, None, 192)      221184    ['block6e_se_excite[0][0]']   \n",
            " 2D)                                                                                              \n",
            "                                                                                                  \n",
            " block6e_project_bn (BatchN  (None, None, None, 192)      768       ['block6e_project_conv[0][0]']\n",
            " ormalization)                                                                                    \n",
            "                                                                                                  \n",
            " block6e_drop (Dropout)      (None, None, None, 192)      0         ['block6e_project_bn[0][0]']  \n",
            "                                                                                                  \n",
            " block6e_add (Add)           (None, None, None, 192)      0         ['block6e_drop[0][0]',        \n",
            "                                                                     'block6d_add[0][0]']         \n",
            "                                                                                                  \n",
            " block6f_expand_conv (Conv2  (None, None, None, 1152)     221184    ['block6e_add[0][0]']         \n",
            " D)                                                                                               \n",
            "                                                                                                  \n",
            " block6f_expand_bn (BatchNo  (None, None, None, 1152)     4608      ['block6f_expand_conv[0][0]'] \n",
            " rmalization)                                                                                     \n",
            "                                                                                                  \n",
            " block6f_expand_activation   (None, None, None, 1152)     0         ['block6f_expand_bn[0][0]']   \n",
            " (Activation)                                                                                     \n",
            "                                                                                                  \n",
            " block6f_dwconv2 (Depthwise  (None, None, None, 1152)     10368     ['block6f_expand_activation[0]\n",
            " Conv2D)                                                            [0]']                         \n",
            "                                                                                                  \n",
            " block6f_bn (BatchNormaliza  (None, None, None, 1152)     4608      ['block6f_dwconv2[0][0]']     \n",
            " tion)                                                                                            \n",
            "                                                                                                  \n",
            " block6f_activation (Activa  (None, None, None, 1152)     0         ['block6f_bn[0][0]']          \n",
            " tion)                                                                                            \n",
            "                                                                                                  \n",
            " block6f_se_squeeze (Global  (None, 1152)                 0         ['block6f_activation[0][0]']  \n",
            " AveragePooling2D)                                                                                \n",
            "                                                                                                  \n",
            " block6f_se_reshape (Reshap  (None, 1, 1, 1152)           0         ['block6f_se_squeeze[0][0]']  \n",
            " e)                                                                                               \n",
            "                                                                                                  \n",
            " block6f_se_reduce (Conv2D)  (None, 1, 1, 48)             55344     ['block6f_se_reshape[0][0]']  \n",
            "                                                                                                  \n",
            " block6f_se_expand (Conv2D)  (None, 1, 1, 1152)           56448     ['block6f_se_reduce[0][0]']   \n",
            "                                                                                                  \n",
            " block6f_se_excite (Multipl  (None, None, None, 1152)     0         ['block6f_activation[0][0]',  \n",
            " y)                                                                  'block6f_se_expand[0][0]']   \n",
            "                                                                                                  \n",
            " block6f_project_conv (Conv  (None, None, None, 192)      221184    ['block6f_se_excite[0][0]']   \n",
            " 2D)                                                                                              \n",
            "                                                                                                  \n",
            " block6f_project_bn (BatchN  (None, None, None, 192)      768       ['block6f_project_conv[0][0]']\n",
            " ormalization)                                                                                    \n",
            "                                                                                                  \n",
            " block6f_drop (Dropout)      (None, None, None, 192)      0         ['block6f_project_bn[0][0]']  \n",
            "                                                                                                  \n",
            " block6f_add (Add)           (None, None, None, 192)      0         ['block6f_drop[0][0]',        \n",
            "                                                                     'block6e_add[0][0]']         \n",
            "                                                                                                  \n",
            " block6g_expand_conv (Conv2  (None, None, None, 1152)     221184    ['block6f_add[0][0]']         \n",
            " D)                                                                                               \n",
            "                                                                                                  \n",
            " block6g_expand_bn (BatchNo  (None, None, None, 1152)     4608      ['block6g_expand_conv[0][0]'] \n",
            " rmalization)                                                                                     \n",
            "                                                                                                  \n",
            " block6g_expand_activation   (None, None, None, 1152)     0         ['block6g_expand_bn[0][0]']   \n",
            " (Activation)                                                                                     \n",
            "                                                                                                  \n",
            " block6g_dwconv2 (Depthwise  (None, None, None, 1152)     10368     ['block6g_expand_activation[0]\n",
            " Conv2D)                                                            [0]']                         \n",
            "                                                                                                  \n",
            " block6g_bn (BatchNormaliza  (None, None, None, 1152)     4608      ['block6g_dwconv2[0][0]']     \n",
            " tion)                                                                                            \n",
            "                                                                                                  \n",
            " block6g_activation (Activa  (None, None, None, 1152)     0         ['block6g_bn[0][0]']          \n",
            " tion)                                                                                            \n",
            "                                                                                                  \n",
            " block6g_se_squeeze (Global  (None, 1152)                 0         ['block6g_activation[0][0]']  \n",
            " AveragePooling2D)                                                                                \n",
            "                                                                                                  \n",
            " block6g_se_reshape (Reshap  (None, 1, 1, 1152)           0         ['block6g_se_squeeze[0][0]']  \n",
            " e)                                                                                               \n",
            "                                                                                                  \n",
            " block6g_se_reduce (Conv2D)  (None, 1, 1, 48)             55344     ['block6g_se_reshape[0][0]']  \n",
            "                                                                                                  \n",
            " block6g_se_expand (Conv2D)  (None, 1, 1, 1152)           56448     ['block6g_se_reduce[0][0]']   \n",
            "                                                                                                  \n",
            " block6g_se_excite (Multipl  (None, None, None, 1152)     0         ['block6g_activation[0][0]',  \n",
            " y)                                                                  'block6g_se_expand[0][0]']   \n",
            "                                                                                                  \n",
            " block6g_project_conv (Conv  (None, None, None, 192)      221184    ['block6g_se_excite[0][0]']   \n",
            " 2D)                                                                                              \n",
            "                                                                                                  \n",
            " block6g_project_bn (BatchN  (None, None, None, 192)      768       ['block6g_project_conv[0][0]']\n",
            " ormalization)                                                                                    \n",
            "                                                                                                  \n",
            " block6g_drop (Dropout)      (None, None, None, 192)      0         ['block6g_project_bn[0][0]']  \n",
            "                                                                                                  \n",
            " block6g_add (Add)           (None, None, None, 192)      0         ['block6g_drop[0][0]',        \n",
            "                                                                     'block6f_add[0][0]']         \n",
            "                                                                                                  \n",
            " block6h_expand_conv (Conv2  (None, None, None, 1152)     221184    ['block6g_add[0][0]']         \n",
            " D)                                                                                               \n",
            "                                                                                                  \n",
            " block6h_expand_bn (BatchNo  (None, None, None, 1152)     4608      ['block6h_expand_conv[0][0]'] \n",
            " rmalization)                                                                                     \n",
            "                                                                                                  \n",
            " block6h_expand_activation   (None, None, None, 1152)     0         ['block6h_expand_bn[0][0]']   \n",
            " (Activation)                                                                                     \n",
            "                                                                                                  \n",
            " block6h_dwconv2 (Depthwise  (None, None, None, 1152)     10368     ['block6h_expand_activation[0]\n",
            " Conv2D)                                                            [0]']                         \n",
            "                                                                                                  \n",
            " block6h_bn (BatchNormaliza  (None, None, None, 1152)     4608      ['block6h_dwconv2[0][0]']     \n",
            " tion)                                                                                            \n",
            "                                                                                                  \n",
            " block6h_activation (Activa  (None, None, None, 1152)     0         ['block6h_bn[0][0]']          \n",
            " tion)                                                                                            \n",
            "                                                                                                  \n",
            " block6h_se_squeeze (Global  (None, 1152)                 0         ['block6h_activation[0][0]']  \n",
            " AveragePooling2D)                                                                                \n",
            "                                                                                                  \n",
            " block6h_se_reshape (Reshap  (None, 1, 1, 1152)           0         ['block6h_se_squeeze[0][0]']  \n",
            " e)                                                                                               \n",
            "                                                                                                  \n",
            " block6h_se_reduce (Conv2D)  (None, 1, 1, 48)             55344     ['block6h_se_reshape[0][0]']  \n",
            "                                                                                                  \n",
            " block6h_se_expand (Conv2D)  (None, 1, 1, 1152)           56448     ['block6h_se_reduce[0][0]']   \n",
            "                                                                                                  \n",
            " block6h_se_excite (Multipl  (None, None, None, 1152)     0         ['block6h_activation[0][0]',  \n",
            " y)                                                                  'block6h_se_expand[0][0]']   \n",
            "                                                                                                  \n",
            " block6h_project_conv (Conv  (None, None, None, 192)      221184    ['block6h_se_excite[0][0]']   \n",
            " 2D)                                                                                              \n",
            "                                                                                                  \n",
            " block6h_project_bn (BatchN  (None, None, None, 192)      768       ['block6h_project_conv[0][0]']\n",
            " ormalization)                                                                                    \n",
            "                                                                                                  \n",
            " block6h_drop (Dropout)      (None, None, None, 192)      0         ['block6h_project_bn[0][0]']  \n",
            "                                                                                                  \n",
            " block6h_add (Add)           (None, None, None, 192)      0         ['block6h_drop[0][0]',        \n",
            "                                                                     'block6g_add[0][0]']         \n",
            "                                                                                                  \n",
            " top_conv (Conv2D)           (None, None, None, 1280)     245760    ['block6h_add[0][0]']         \n",
            "                                                                                                  \n",
            " top_bn (BatchNormalization  (None, None, None, 1280)     5120      ['top_conv[0][0]']            \n",
            " )                                                                                                \n",
            "                                                                                                  \n",
            " top_activation (Activation  (None, None, None, 1280)     0         ['top_bn[0][0]']              \n",
            " )                                                                                                \n",
            "                                                                                                  \n",
            "==================================================================================================\n",
            "Total params: 5919312 (22.58 MB)\n",
            "Trainable params: 0 (0.00 Byte)\n",
            "Non-trainable params: 5919312 (22.58 MB)\n",
            "__________________________________________________________________________________________________\n"
          ]
        }
      ],
      "source": [
        "base_model.summary()"
      ]
    },
    {
      "cell_type": "code",
      "execution_count": 15,
      "metadata": {
        "colab": {
          "base_uri": "https://localhost:8080/"
        },
        "id": "WTU-n_KzYARW",
        "outputId": "bec66f9c-e348-4427-c23c-cf4c26af5856"
      },
      "outputs": [
        {
          "output_type": "stream",
          "name": "stdout",
          "text": [
            "Model: \"model\"\n",
            "_________________________________________________________________\n",
            " Layer (type)                Output Shape              Param #   \n",
            "=================================================================\n",
            " input_layer (InputLayer)    [(None, 224, 224, 3)]     0         \n",
            "                                                                 \n",
            " efficientnetv2-b0 (Functio  (None, None, None, 1280   5919312   \n",
            " nal)                        )                                   \n",
            "                                                                 \n",
            " global_average_pooling_lay  (None, 1280)              0         \n",
            " er (GlobalAveragePooling2D                                      \n",
            " )                                                               \n",
            "                                                                 \n",
            " output_layer (Dense)        (None, 10)                12810     \n",
            "                                                                 \n",
            "=================================================================\n",
            "Total params: 5932122 (22.63 MB)\n",
            "Trainable params: 12810 (50.04 KB)\n",
            "Non-trainable params: 5919312 (22.58 MB)\n",
            "_________________________________________________________________\n"
          ]
        }
      ],
      "source": [
        "model_0.summary()"
      ]
    },
    {
      "cell_type": "code",
      "execution_count": 16,
      "metadata": {
        "colab": {
          "base_uri": "https://localhost:8080/",
          "height": 927
        },
        "id": "RgWwGTMBYETc",
        "outputId": "91228c2b-9c2f-4bcb-98e8-a99245e91ab8"
      },
      "outputs": [
        {
          "output_type": "display_data",
          "data": {
            "text/plain": [
              "<Figure size 640x480 with 1 Axes>"
            ],
            "image/png": "[encoded data removed]"
          },
          "metadata": {}
        },
        {
          "output_type": "display_data",
          "data": {
            "text/plain": [
              "<Figure size 640x480 with 1 Axes>"
            ],
            "image/png": "[encoded data removed]"
          },
          "metadata": {}
        }
      ],
      "source": [
        "plot_loss_curves(history_10_percent)"
      ]
    },
    {
      "cell_type": "code",
      "execution_count": 17,
      "metadata": {
        "colab": {
          "base_uri": "https://localhost:8080/"
        },
        "id": "PpDcp41HYJ45",
        "outputId": "a0810f17-bdf7-4cba-ce54-3177cf068d6b"
      },
      "outputs": [
        {
          "output_type": "stream",
          "name": "stdout",
          "text": [
            "Random input tensor:\n",
            " [[[[ 0.3274685  -0.8426258   0.3194337 ]\n",
            "   [-1.4075519  -2.3880599  -1.0392479 ]\n",
            "   [-0.5573232   0.539707    1.6994323 ]\n",
            "   [ 0.28893656 -1.5066116  -0.26454744]]\n",
            "\n",
            "  [[-0.59722406 -1.9171132  -0.62044144]\n",
            "   [ 0.8504023  -0.40604794 -3.0258412 ]\n",
            "   [ 0.9058464   0.29855987 -0.22561555]\n",
            "   [-0.7616443  -1.891714   -0.9384712 ]]\n",
            "\n",
            "  [[ 0.77852213 -0.47338897  0.97772694]\n",
            "   [ 0.24694404  0.20573747 -0.5256233 ]\n",
            "   [ 0.32410017  0.02545409 -0.10638497]\n",
            "   [-0.6369475   1.1603122   0.2507359 ]]\n",
            "\n",
            "  [[-0.41728497  0.40125778 -1.4145442 ]\n",
            "   [-0.59318566 -1.6617213   0.33567193]\n",
            "   [ 0.10815629  0.2347968  -0.56668764]\n",
            "   [-0.35819843  0.88698626  0.5274477 ]]]]\n",
            "\n",
            "2D global average pooled random tensor :\n",
            "[[-0.09368646 -0.45840445 -0.28855976]] \n",
            " \n",
            "Shape of input tensor: (1, 4, 4, 3)\n",
            "Shape of Global Average Pooled 2D tensor : (1, 3)\n"
          ]
        }
      ],
      "source": [
        "input_shape = (1,4,4,3)\n",
        "tf.random.set_seed(42)\n",
        "input_tensor =tf.random.normal(input_shape)\n",
        "print(f\"Random input tensor:\\n {input_tensor}\\n\")\n",
        "\n",
        "global_average_pooled_tensor = tf.keras.layers.GlobalAveragePooling2D()(input_tensor)\n",
        "print(f\"2D global average pooled random tensor :\\n{global_average_pooled_tensor} \\n \")\n",
        "\n",
        "print(f\"Shape of input tensor: {input_tensor.shape}\")\n",
        "print(f\"Shape of Global Average Pooled 2D tensor : {global_average_pooled_tensor.shape}\")\n"
      ]
    },
    {
      "cell_type": "code",
      "execution_count": 18,
      "metadata": {
        "colab": {
          "base_uri": "https://localhost:8080/"
        },
        "id": "UCQ_AMgvYteg",
        "outputId": "b80f6f38-2ca7-4d70-cfab-54822c247355"
      },
      "outputs": [
        {
          "output_type": "execute_result",
          "data": {
            "text/plain": [
              "<tf.Tensor: shape=(1, 3), dtype=float32, numpy=array([[-0.09368646, -0.45840445, -0.28855976]], dtype=float32)>"
            ]
          },
          "metadata": {},
          "execution_count": 18
        }
      ],
      "source": [
        "tf.reduce_mean(input_tensor, axis=[1,2])"
      ]
    },
    {
      "cell_type": "code",
      "execution_count": 19,
      "metadata": {
        "colab": {
          "base_uri": "https://localhost:8080/"
        },
        "id": "UVleUBaQZ9B1",
        "outputId": "7bd3725a-a9b3-436a-e43c-7bd7f7ca2951"
      },
      "outputs": [
        {
          "output_type": "stream",
          "name": "stdout",
          "text": [
            "--2024-02-09 19:08:39--  https://storage.googleapis.com/ztm_tf_course/food_vision/10_food_classes_1_percent.zip\n",
            "Resolving storage.googleapis.com (storage.googleapis.com)... 172.253.62.207, 142.251.163.207, 142.251.167.207, ...\n",
            "Connecting to storage.googleapis.com (storage.googleapis.com)|172.253.62.207|:443... connected.\n",
            "HTTP request sent, awaiting response... 200 OK\n",
            "Length: 133612354 (127M) [application/zip]\n",
            "Saving to: ‘10_food_classes_1_percent.zip’\n",
            "\n",
            "10_food_classes_1_p 100%[===================>] 127.42M   124MB/s    in 1.0s    \n",
            "\n",
            "2024-02-09 19:08:40 (124 MB/s) - ‘10_food_classes_1_percent.zip’ saved [133612354/133612354]\n",
            "\n"
          ]
        }
      ],
      "source": [
        "!wget https://storage.googleapis.com/ztm_tf_course/food_vision/10_food_classes_1_percent.zip\n",
        "unzip_data(\"10_food_classes_1_percent.zip\")"
      ]
    },
    {
      "cell_type": "code",
      "execution_count": 20,
      "metadata": {
        "id": "n-ujkwr3abUI"
      },
      "outputs": [],
      "source": [
        "train_dir_1_percent = \"10_food_classes_1_percent/train\"\n",
        "test_dir = \"10_food_classes_1_percent/test\""
      ]
    },
    {
      "cell_type": "code",
      "execution_count": 21,
      "metadata": {
        "colab": {
          "base_uri": "https://localhost:8080/"
        },
        "id": "Ulh7krSBawKN",
        "outputId": "431d2fa1-96d3-4462-b6af-81394d3c7fb5"
      },
      "outputs": [
        {
          "output_type": "stream",
          "name": "stdout",
          "text": [
            "There are 2 directories and 0 images in '10_food_classes_1_percent'.\n",
            "There are 10 directories and 0 images in '10_food_classes_1_percent/test'.\n",
            "There are 0 directories and 250 images in '10_food_classes_1_percent/test/chicken_wings'.\n",
            "There are 0 directories and 250 images in '10_food_classes_1_percent/test/ice_cream'.\n",
            "There are 0 directories and 250 images in '10_food_classes_1_percent/test/sushi'.\n",
            "There are 0 directories and 250 images in '10_food_classes_1_percent/test/fried_rice'.\n",
            "There are 0 directories and 250 images in '10_food_classes_1_percent/test/pizza'.\n",
            "There are 0 directories and 250 images in '10_food_classes_1_percent/test/steak'.\n",
            "There are 0 directories and 250 images in '10_food_classes_1_percent/test/chicken_curry'.\n",
            "There are 0 directories and 250 images in '10_food_classes_1_percent/test/ramen'.\n",
            "There are 0 directories and 250 images in '10_food_classes_1_percent/test/hamburger'.\n",
            "There are 0 directories and 250 images in '10_food_classes_1_percent/test/grilled_salmon'.\n",
            "There are 10 directories and 0 images in '10_food_classes_1_percent/train'.\n",
            "There are 0 directories and 7 images in '10_food_classes_1_percent/train/chicken_wings'.\n",
            "There are 0 directories and 7 images in '10_food_classes_1_percent/train/ice_cream'.\n",
            "There are 0 directories and 7 images in '10_food_classes_1_percent/train/sushi'.\n",
            "There are 0 directories and 7 images in '10_food_classes_1_percent/train/fried_rice'.\n",
            "There are 0 directories and 7 images in '10_food_classes_1_percent/train/pizza'.\n",
            "There are 0 directories and 7 images in '10_food_classes_1_percent/train/steak'.\n",
            "There are 0 directories and 7 images in '10_food_classes_1_percent/train/chicken_curry'.\n",
            "There are 0 directories and 7 images in '10_food_classes_1_percent/train/ramen'.\n",
            "There are 0 directories and 7 images in '10_food_classes_1_percent/train/hamburger'.\n",
            "There are 0 directories and 7 images in '10_food_classes_1_percent/train/grilled_salmon'.\n"
          ]
        }
      ],
      "source": [
        "walk_through_dir(\"10_food_classes_1_percent\")"
      ]
    },
    {
      "cell_type": "code",
      "execution_count": 22,
      "metadata": {
        "colab": {
          "base_uri": "https://localhost:8080/"
        },
        "id": "NLmZGGsMa1Wk",
        "outputId": "311c10af-51e2-4a66-d51c-36df716b3427"
      },
      "outputs": [
        {
          "output_type": "stream",
          "name": "stdout",
          "text": [
            "Found 750 files belonging to 10 classes.\n",
            "Found 2500 files belonging to 10 classes.\n"
          ]
        }
      ],
      "source": [
        "IMG__SIZE = (224,224)\n",
        "train_data_1_percent = tf.keras.preprocessing.image_dataset_from_directory(directory=train_dir,\n",
        "                                                                            image_size=IMG_SIZE,\n",
        "                                                                            label_mode=\"categorical\",\n",
        "                                                                            batch_size=32)\n",
        "\n",
        "\n",
        "test_data = tf.keras.preprocessing.image_dataset_from_directory(directory=test_dir,\n",
        "                                                                image_size=IMG_SIZE,\n",
        "                                                                label_mode=\"categorical\",\n",
        "                                                               batch_size=32)\n",
        "\n",
        "\n"
      ]
    },
    {
      "cell_type": "code",
      "execution_count": 23,
      "metadata": {
        "colab": {
          "base_uri": "https://localhost:8080/"
        },
        "id": "y78ELZNxbP4b",
        "outputId": "e2ef1827-f600-4718-f0c4-443bb1277474"
      },
      "outputs": [
        {
          "output_type": "stream",
          "name": "stdout",
          "text": [
            "2.15.0\n"
          ]
        }
      ],
      "source": [
        "print(tf.__version__)"
      ]
    },
    {
      "cell_type": "code",
      "execution_count": 24,
      "metadata": {
        "id": "7CHz6En5bXQx"
      },
      "outputs": [],
      "source": [
        "import tensorflow as tf\n",
        "from tensorflow import keras\n",
        "from tensorflow.keras import layers\n",
        "from tensorflow.keras.layers.experimental import preprocessing\n",
        "\n",
        "data_augmentation = keras.Sequential([\n",
        "    preprocessing.RandomFlip(\"horizontal\"),\n",
        "    preprocessing.RandomRotation(0.2),\n",
        "    preprocessing.RandomZoom(0.2),\n",
        "    preprocessing.RandomHeight(0.2),\n",
        "    preprocessing.RandomWidth(0.2),\n",
        "    #preprocessing.Rescale(1./255)\n",
        "\n",
        "], name=\"data_augmentation\")\n",
        "\n"
      ]
    },
    {
      "cell_type": "code",
      "execution_count": 25,
      "metadata": {
        "colab": {
          "base_uri": "https://localhost:8080/",
          "height": 901
        },
        "id": "sMMZ16oRcgo1",
        "outputId": "c700168c-135f-4f9c-a451-ba27143ec992"
      },
      "outputs": [
        {
          "output_type": "stream",
          "name": "stderr",
          "text": [
            "WARNING:matplotlib.image:Clipping input data to the valid range for imshow with RGB data ([0..1] for floats or [0..255] for integers).\n"
          ]
        },
        {
          "output_type": "execute_result",
          "data": {
            "text/plain": [
              "<matplotlib.image.AxesImage at 0x7e1274d4f340>"
            ]
          },
          "metadata": {},
          "execution_count": 25
        },
        {
          "output_type": "display_data",
          "data": {
            "text/plain": [
              "<Figure size 640x480 with 1 Axes>"
            ],
            "image/png": "[encoded data removed]"
          },
          "metadata": {}
        },
        {
          "output_type": "display_data",
          "data": {
            "text/plain": [
              "<Figure size 640x480 with 1 Axes>"
            ],
            "image/png": "[encoded data removed]"
          },
          "metadata": {}
        }
      ],
      "source": [
        "import matplotlib.pyplot as plt\n",
        "import matplotlib.image as mpimg\n",
        "import os\n",
        "import random\n",
        "target_class = random.choice(train_data_1_percent.class_names)\n",
        "target_dir = \"10_food_classes_1_percent/train/\" + target_class\n",
        "random_image = random.choice(os.listdir(target_dir))\n",
        "random_image_path = target_dir + \"/\"+ random_image\n",
        "\n",
        "img=mpimg.imread(random_image_path)\n",
        "plt.imshow(img)\n",
        "plt.title(f\"Original random image from class {target_class}\")\n",
        "plt.axis(False);\n",
        "\n",
        "augmented_img = data_augmentation(img, training=True)\n",
        "plt.figure()\n",
        "plt.imshow(augmented_img)"
      ]
    },
    {
      "cell_type": "code",
      "execution_count": 26,
      "metadata": {
        "colab": {
          "base_uri": "https://localhost:8080/"
        },
        "id": "jlXtpmY3dG0C",
        "outputId": "4f86002d-700e-40a1-8173-23ed8b491052"
      },
      "outputs": [
        {
          "output_type": "execute_result",
          "data": {
            "text/plain": [
              "['chicken_curry',\n",
              " 'chicken_wings',\n",
              " 'fried_rice',\n",
              " 'grilled_salmon',\n",
              " 'hamburger',\n",
              " 'ice_cream',\n",
              " 'pizza',\n",
              " 'ramen',\n",
              " 'steak',\n",
              " 'sushi']"
            ]
          },
          "metadata": {},
          "execution_count": 26
        }
      ],
      "source": [
        "train_data_1_percent.class_names"
      ]
    },
    {
      "cell_type": "code",
      "execution_count": 27,
      "metadata": {
        "colab": {
          "base_uri": "https://localhost:8080/"
        },
        "id": "IJfWTnvLdNCO",
        "outputId": "9129ec8d-f237-4c60-a0c7-75900429b184"
      },
      "outputs": [
        {
          "output_type": "stream",
          "name": "stdout",
          "text": [
            "Saving TensorBoard log files to: transfer_learning/1_percent_date_aug/20240209-190851\n",
            "Epoch 1/5\n",
            "24/24 [==============================] - 91s 3s/step - loss: 2.0272 - accuracy: 0.3320 - val_loss: 1.4698 - val_accuracy: 0.6414\n",
            "Epoch 2/5\n",
            "24/24 [==============================] - 88s 4s/step - loss: 1.3727 - accuracy: 0.6627 - val_loss: 1.0381 - val_accuracy: 0.7352\n",
            "Epoch 3/5\n",
            "24/24 [==============================] - 91s 4s/step - loss: 1.0787 - accuracy: 0.7373 - val_loss: 0.8276 - val_accuracy: 0.7944\n",
            "Epoch 4/5\n",
            "24/24 [==============================] - 77s 3s/step - loss: 0.9517 - accuracy: 0.7560 - val_loss: 0.7315 - val_accuracy: 0.7993\n",
            "Epoch 5/5\n",
            "24/24 [==============================] - 92s 4s/step - loss: 0.8212 - accuracy: 0.8027 - val_loss: 0.6506 - val_accuracy: 0.8289\n"
          ]
        }
      ],
      "source": [
        "input_shape = (224, 224, 3)\n",
        "base_model = tf.keras.applications.efficientnet_v2.EfficientNetV2B0(include_top=False)\n",
        "base_model.trainable = False\n",
        "\n",
        "inputs = layers.Input(shape = input_shape, name=\"input_layer\")\n",
        "\n",
        "x = data_augmentation(inputs)\n",
        "\n",
        "x = base_model(x, training=False)\n",
        "\n",
        "x = layers.GlobalAveragePooling2D(name=\"global_average_pooling_layer\")(x)\n",
        "\n",
        "outputs = layers.Dense(10, activation=\"softmax\", name = \"output_layer\")(x)\n",
        "\n",
        "model_1 = keras.Model(inputs, outputs)\n",
        "\n",
        "model_1.compile(loss=\"categorical_crossentropy\",\n",
        "                optimizer=tf.keras.optimizers.Adam(),\n",
        "                metrics=[\"accuracy\"])\n",
        "\n",
        "history_1_percent = model_1.fit(train_data_1_percent,\n",
        "                                epochs=5,\n",
        "                                steps_per_epoch=len(train_data_1_percent),\n",
        "                                validation_data=test_data,\n",
        "                                validation_steps=int(0.25 * len(test_data)),\n",
        "                                callbacks=[create_tensorboard_callback(dir_name=\"transfer_learning\",\n",
        "                                                                        experiment_name=\"1_percent_date_aug\")])\n"
      ]
    },
    {
      "cell_type": "code",
      "execution_count": 28,
      "metadata": {
        "colab": {
          "base_uri": "https://localhost:8080/"
        },
        "id": "ECio-rHdIsCW",
        "outputId": "87468c47-bd52-452e-8f7c-053d8adf8991"
      },
      "outputs": [
        {
          "output_type": "stream",
          "name": "stdout",
          "text": [
            "Model: \"model_1\"\n",
            "_________________________________________________________________\n",
            " Layer (type)                Output Shape              Param #   \n",
            "=================================================================\n",
            " input_layer (InputLayer)    [(None, 224, 224, 3)]     0         \n",
            "                                                                 \n",
            " data_augmentation (Sequent  (None, None, 3)           0         \n",
            " ial)                                                            \n",
            "                                                                 \n",
            " efficientnetv2-b0 (Functio  (None, None, None, 1280   5919312   \n",
            " nal)                        )                                   \n",
            "                                                                 \n",
            " global_average_pooling_lay  (None, 1280)              0         \n",
            " er (GlobalAveragePooling2D                                      \n",
            " )                                                               \n",
            "                                                                 \n",
            " output_layer (Dense)        (None, 10)                12810     \n",
            "                                                                 \n",
            "=================================================================\n",
            "Total params: 5932122 (22.63 MB)\n",
            "Trainable params: 12810 (50.04 KB)\n",
            "Non-trainable params: 5919312 (22.58 MB)\n",
            "_________________________________________________________________\n"
          ]
        }
      ],
      "source": [
        "model_1.summary()"
      ]
    },
    {
      "cell_type": "code",
      "execution_count": 29,
      "metadata": {
        "colab": {
          "base_uri": "https://localhost:8080/"
        },
        "id": "eYaLgEUjOAH4",
        "outputId": "46756744-7262-426b-8f04-f2cdf69a3d59"
      },
      "outputs": [
        {
          "output_type": "stream",
          "name": "stdout",
          "text": [
            "79/79 [==============================] - 130s 2s/step - loss: 0.6519 - accuracy: 0.8228\n"
          ]
        },
        {
          "output_type": "execute_result",
          "data": {
            "text/plain": [
              "[0.6519479155540466, 0.8227999806404114]"
            ]
          },
          "metadata": {},
          "execution_count": 29
        }
      ],
      "source": [
        "results_1_percent_data_aug =  model_1.evaluate(test_data)\n",
        "results_1_percent_data_aug\n"
      ]
    },
    {
      "cell_type": "code",
      "execution_count": null,
      "metadata": {
        "id": "bGKawVNlOnwK"
      },
      "outputs": [],
      "source": [
        "plot_loss_curves(history_1_percent)"
      ]
    },
    {
      "cell_type": "code",
      "execution_count": null,
      "metadata": {
        "id": "ywf1tpGmPmkS"
      },
      "outputs": [],
      "source": [
        "#!wget https://storage.googleapis.com/ztm_tf_course/food_vision/10_food_classes_10_percent.zip\n",
        "\n",
        "train_dir_10_percent = \"10_food_classes_10_percent/train\"\n",
        "test_dir = \"10_food_classes_10_percent/test\""
      ]
    },
    {
      "cell_type": "code",
      "execution_count": 32,
      "metadata": {
        "id": "--cyEF8bmv13",
        "colab": {
          "base_uri": "https://localhost:8080/"
        },
        "outputId": "a87c3ebb-76c4-45d0-e435-ebababd483bd"
      },
      "outputs": [
        {
          "output_type": "stream",
          "name": "stdout",
          "text": [
            "There are 2 directories and 0 images in '10_food_classes_10_percent'.\n",
            "There are 10 directories and 0 images in '10_food_classes_10_percent/test'.\n",
            "There are 0 directories and 250 images in '10_food_classes_10_percent/test/chicken_wings'.\n",
            "There are 0 directories and 250 images in '10_food_classes_10_percent/test/ice_cream'.\n",
            "There are 0 directories and 250 images in '10_food_classes_10_percent/test/sushi'.\n",
            "There are 0 directories and 250 images in '10_food_classes_10_percent/test/fried_rice'.\n",
            "There are 0 directories and 250 images in '10_food_classes_10_percent/test/pizza'.\n",
            "There are 0 directories and 250 images in '10_food_classes_10_percent/test/steak'.\n",
            "There are 0 directories and 250 images in '10_food_classes_10_percent/test/chicken_curry'.\n",
            "There are 0 directories and 250 images in '10_food_classes_10_percent/test/ramen'.\n",
            "There are 0 directories and 250 images in '10_food_classes_10_percent/test/hamburger'.\n",
            "There are 0 directories and 250 images in '10_food_classes_10_percent/test/grilled_salmon'.\n",
            "There are 10 directories and 0 images in '10_food_classes_10_percent/train'.\n",
            "There are 0 directories and 75 images in '10_food_classes_10_percent/train/chicken_wings'.\n",
            "There are 0 directories and 75 images in '10_food_classes_10_percent/train/ice_cream'.\n",
            "There are 0 directories and 75 images in '10_food_classes_10_percent/train/sushi'.\n",
            "There are 0 directories and 75 images in '10_food_classes_10_percent/train/fried_rice'.\n",
            "There are 0 directories and 75 images in '10_food_classes_10_percent/train/pizza'.\n",
            "There are 0 directories and 75 images in '10_food_classes_10_percent/train/steak'.\n",
            "There are 0 directories and 75 images in '10_food_classes_10_percent/train/chicken_curry'.\n",
            "There are 0 directories and 75 images in '10_food_classes_10_percent/train/ramen'.\n",
            "There are 0 directories and 75 images in '10_food_classes_10_percent/train/hamburger'.\n",
            "There are 0 directories and 75 images in '10_food_classes_10_percent/train/grilled_salmon'.\n"
          ]
        }
      ],
      "source": [
        "walk_through_dir(\"10_food_classes_10_percent\")"
      ]
    },
    {
      "cell_type": "code",
      "execution_count": 32,
      "metadata": {
        "id": "I9YtvtEmm1NP"
      },
      "outputs": [],
      "source": []
    },
    {
      "cell_type": "code",
      "execution_count": 33,
      "metadata": {
        "colab": {
          "base_uri": "https://localhost:8080/"
        },
        "id": "qC2IzlrFRipy",
        "outputId": "b76d0e2e-0225-4b71-f5dc-6f705cca3d83"
      },
      "outputs": [
        {
          "output_type": "stream",
          "name": "stdout",
          "text": [
            "Found 750 files belonging to 10 classes.\n",
            "Found 2500 files belonging to 10 classes.\n"
          ]
        }
      ],
      "source": [
        "import tensorflow as tf\n",
        "IMG_SIZE = (224, 224)\n",
        "\n",
        "train_data_10_percent = tf.keras.preprocessing.image_dataset_from_directory(train_dir_10_percent,\n",
        "                                                                            label_mode=\"categorical\",\n",
        "                                                                            image_size=IMG_SIZE)\n",
        "\n",
        "\n",
        "test_data = tf.keras.preprocessing.image_dataset_from_directory(test_dir,\n",
        "                                                                label_mode=\"categorical\",\n",
        "                                                                image_size=IMG_SIZE)"
      ]
    },
    {
      "cell_type": "code",
      "execution_count": 34,
      "metadata": {
        "id": "RBbrXlramvKZ"
      },
      "outputs": [],
      "source": [
        "from tensorflow.keras import layers\n",
        "from tensorflow.keras.layers.experimental  import preprocessing\n",
        "from tensorflow.keras.models import Sequential\n",
        "\n",
        "data_augmentation = Sequential([\n",
        "    preprocessing.RandomFlip(\"horizontal\"),\n",
        "    preprocessing.RandomRotation(0.2),\n",
        "    preprocessing.RandomZoom(0.2),\n",
        "    preprocessing.RandomHeight(0.2),\n",
        "    preprocessing.RandomWidth(0.2),\n",
        "    #preprocessing.Rescale(1./255)\n",
        "],name=\"data_augmentation\")\n",
        "\n",
        "input_shape = (224, 224, 3)\n",
        "base_model = tf.keras.applications.efficientnet_v2.EfficientNetV2B0(include_top=False)\n",
        "base_model.trainable = False\n",
        "\n",
        "inputs = layers.Input(shape=input_shape, name=\"input_layer\")\n",
        "x = data_augmentation(inputs)\n",
        "x = base_model(x, training=False)\n",
        "x = layers.GlobalAveragePooling2D(name=\"global_average_pooling_2D\")(x)\n",
        "\n",
        "outputs = layers.Dense(10, activation=\"softmax\", name=\"output_layer\")(x)\n",
        "\n",
        "model_2 = tf.keras.Model(inputs, outputs)\n",
        "\n",
        "model_2.compile(loss=\"categorical_crossentropy\",\n",
        "                optimizer =tf.keras.optimizers.Adam(),\n",
        "                metrics=[\"accuracy\"])\n"
      ]
    },
    {
      "cell_type": "code",
      "execution_count": 35,
      "metadata": {
        "id": "y5EvQUyluUFi"
      },
      "outputs": [],
      "source": [
        "checkpoint_path = \"ten_percent_model_checkpoints_weights/checkpoint.ckpt\"\n",
        "\n",
        "checkpoint_callback = tf.keras.callbacks.ModelCheckpoint(filepath=checkpoint_path,\n",
        "                                                         save_weights_only=True,\n",
        "                                                         save_best_only=False,\n",
        "                                                         save_freq=\"epoch\",\n",
        "                                                         verbose=1)"
      ]
    },
    {
      "cell_type": "code",
      "execution_count": 36,
      "metadata": {
        "colab": {
          "base_uri": "https://localhost:8080/"
        },
        "id": "ERiRV38G4BT1",
        "outputId": "ed0981e3-a519-47da-d8f9-67f76969b0de"
      },
      "outputs": [
        {
          "output_type": "stream",
          "name": "stdout",
          "text": [
            "Saving TensorBoard log files to: transfer_learning/10_percent_date_aug/20240209-192113\n",
            "Epoch 1/5\n",
            "24/24 [==============================] - ETA: 0s - loss: 1.9565 - accuracy: 0.3653\n",
            "Epoch 1: saving model to ten_percent_model_checkpoints_weights/checkpoint.ckpt\n",
            "24/24 [==============================] - 99s 4s/step - loss: 1.9565 - accuracy: 0.3653 - val_loss: 1.4529 - val_accuracy: 0.6562\n",
            "Epoch 2/5\n",
            "24/24 [==============================] - ETA: 0s - loss: 1.3624 - accuracy: 0.6360\n",
            "Epoch 2: saving model to ten_percent_model_checkpoints_weights/checkpoint.ckpt\n",
            "24/24 [==============================] - 89s 4s/step - loss: 1.3624 - accuracy: 0.6360 - val_loss: 1.0557 - val_accuracy: 0.7516\n",
            "Epoch 3/5\n",
            "24/24 [==============================] - ETA: 0s - loss: 1.1186 - accuracy: 0.7240\n",
            "Epoch 3: saving model to ten_percent_model_checkpoints_weights/checkpoint.ckpt\n",
            "24/24 [==============================] - 87s 4s/step - loss: 1.1186 - accuracy: 0.7240 - val_loss: 0.8308 - val_accuracy: 0.7977\n",
            "Epoch 4/5\n",
            "24/24 [==============================] - ETA: 0s - loss: 0.9163 - accuracy: 0.7720\n",
            "Epoch 4: saving model to ten_percent_model_checkpoints_weights/checkpoint.ckpt\n",
            "24/24 [==============================] - 81s 3s/step - loss: 0.9163 - accuracy: 0.7720 - val_loss: 0.7298 - val_accuracy: 0.8109\n",
            "Epoch 5/5\n",
            "24/24 [==============================] - ETA: 0s - loss: 0.7990 - accuracy: 0.8027\n",
            "Epoch 5: saving model to ten_percent_model_checkpoints_weights/checkpoint.ckpt\n",
            "24/24 [==============================] - 88s 4s/step - loss: 0.7990 - accuracy: 0.8027 - val_loss: 0.6503 - val_accuracy: 0.8273\n"
          ]
        }
      ],
      "source": [
        "initial_epochs = 5\n",
        "history_10_percent_data_aug = model_2.fit(train_data_10_percent,\n",
        "                                epochs=initial_epochs,\n",
        "                                #steps_per_epoch=len(train_data_1_percent),\n",
        "                                validation_data=test_data,\n",
        "                                validation_steps=int(0.25 * len(test_data)),\n",
        "                                callbacks=[create_tensorboard_callback(dir_name=\"transfer_learning\",\n",
        "                                                                        experiment_name=\"10_percent_date_aug\"),\n",
        "                                           checkpoint_callback])"
      ]
    },
    {
      "cell_type": "code",
      "execution_count": null,
      "metadata": {
        "id": "npkhWgLR5Kd9"
      },
      "outputs": [],
      "source": [
        "result_10_percent_data_aug = model_2.evaluate(test_data)\n",
        "result_10_percent_data_aug"
      ]
    },
    {
      "cell_type": "code",
      "execution_count": null,
      "metadata": {
        "id": "8rrnN0Ie5Y0u"
      },
      "outputs": [],
      "source": [
        "plot_loss_curves(history_10_percent_data_aug)"
      ]
    },
    {
      "cell_type": "code",
      "execution_count": null,
      "metadata": {
        "id": "nDeZdzY25eO5"
      },
      "outputs": [],
      "source": [
        "train_dir_10_percent = \"10_food_classes_10_percent/train\"\n",
        "test_dir = \"10_food_classes_10_percent/test\"\n"
      ]
    },
    {
      "cell_type": "code",
      "source": [
        "walk_through_dir(\"10_food_classes_10_percent\")"
      ],
      "metadata": {
        "id": "XTQtXm3i8GED"
      },
      "execution_count": null,
      "outputs": []
    },
    {
      "cell_type": "code",
      "source": [
        "import tensorflow as tf\n",
        "IMG_SIZE = (224, 224)\n",
        "\n",
        "train_data_10_percent = tf.keras.preprocessing.image_dataset_from_directory(train_dir_10_percent,\n",
        "                                                                            label_mode=\"categorical\",\n",
        "                                                                            image_size=IMG_SIZE)\n",
        "\n",
        "\n",
        "test_data = tf.keras.preprocessing.image_dataset_from_directory(test_dir,\n",
        "                                                                label_mode=\"categorical\",\n",
        "                                                                image_size=IMG_SIZE)"
      ],
      "metadata": {
        "id": "rP1xh66g7wPJ"
      },
      "execution_count": null,
      "outputs": []
    },
    {
      "cell_type": "code",
      "source": [
        "from tensorflow.keras import layers\n",
        "from tensorflow.keras.layers.experimental  import preprocessing\n",
        "from tensorflow.keras.models import Sequential\n",
        "\n",
        "data_augmentation = Sequential([\n",
        "    preprocessing.RandomFlip(\"horizontal\"),\n",
        "    preprocessing.RandomRotation(0.2),\n",
        "    preprocessing.RandomZoom(0.2),\n",
        "    preprocessing.RandomHeight(0.2),\n",
        "    preprocessing.RandomWidth(0.2),\n",
        "    #preprocessing.Rescale(1./255)\n",
        "],name=\"data_augmentation\")\n",
        "\n",
        "input_shape = (224, 224, 3)\n",
        "base_model = tf.keras.applications.efficientnet_v2.EfficientNetV2B0(include_top=False)\n",
        "base_model.trainable = False\n",
        "\n",
        "inputs = layers.Input(shape=input_shape, name=\"input_layer\")\n",
        "x = data_augmentation(inputs)\n",
        "x = base_model(x, training=False)\n",
        "x = layers.GlobalAveragePooling2D(name=\"global_average_pooling_2D\")(x)\n",
        "\n",
        "outputs = layers.Dense(10, activation=\"softmax\", name=\"output_layer\")(x)\n",
        "\n",
        "model_2 = tf.keras.Model(inputs, outputs)\n",
        "\n",
        "model_2.compile(loss=\"categorical_crossentropy\",\n",
        "                optimizer =tf.keras.optimizers.Adam(),\n",
        "                metrics=[\"accuracy\"])\n"
      ],
      "metadata": {
        "id": "pWUfVMfm8PGN"
      },
      "execution_count": null,
      "outputs": []
    },
    {
      "cell_type": "code",
      "source": [
        "checkpoint_path = \"ten_percent_model_checkpoints_weights/checkpoint.ckpt\"\n",
        "\n",
        "checkpoint_callback = tf.keras.callbacks.ModelCheckpoint(filepath=checkpoint_path,\n",
        "                                                         save_weights_only=True,\n",
        "                                                         save_best_only=False,\n",
        "                                                         save_freq=\"epoch\",\n",
        "                                                         verbose=1)"
      ],
      "metadata": {
        "id": "_ccj2p8n9QHe"
      },
      "execution_count": null,
      "outputs": []
    },
    {
      "cell_type": "code",
      "source": [
        "initial_epochs = 5\n",
        "history_10_percent_data_aug = model_2.fit(train_data_10_percent,\n",
        "                                epochs=initial_epochs,\n",
        "                                #steps_per_epoch=len(train_data_1_percent),\n",
        "                                validation_data=test_data,\n",
        "                                validation_steps=int(0.25 * len(test_data)),\n",
        "                                callbacks=[create_tensorboard_callback(dir_name=\"transfer_learning\",\n",
        "                                                                        experiment_name=\"10_percent_date_aug\"),\n",
        "                                           checkpoint_callback])"
      ],
      "metadata": {
        "id": "FyrfPBSN_yMJ"
      },
      "execution_count": null,
      "outputs": []
    },
    {
      "cell_type": "code",
      "source": [
        "result_10_percent_data_aug = model_2.evaluate(test_data)\n",
        "result_10_percent_data_aug"
      ],
      "metadata": {
        "colab": {
          "base_uri": "https://localhost:8080/"
        },
        "id": "xKMrxZm1AJSw",
        "outputId": "023feab3-9f5d-45cc-f04b-1f41b097a670"
      },
      "execution_count": null,
      "outputs": [
        {
          "output_type": "stream",
          "name": "stdout",
          "text": [
            "25/79 [========>.....................] - ETA: 1:31 - loss: 0.6846 - accuracy: 0.8138"
          ]
        }
      ]
    },
    {
      "cell_type": "code",
      "source": [
        "plot_loss_curves(history_10_percent_data_aug)"
      ],
      "metadata": {
        "id": "BIXw8zVIBBfL"
      },
      "execution_count": null,
      "outputs": []
    },
    {
      "cell_type": "code",
      "source": [
        "model_2.load_weights(checkpoint_path)"
      ],
      "metadata": {
        "id": "9fD3G44dBJCd"
      },
      "execution_count": null,
      "outputs": []
    },
    {
      "cell_type": "code",
      "source": [
        "loaded_weights_model_results = model_2.evaluate(test_data)"
      ],
      "metadata": {
        "id": "uWQBlijCBtmT"
      },
      "execution_count": null,
      "outputs": []
    },
    {
      "cell_type": "code",
      "source": [
        "result_10_percent_data_aug == loaded_weights_model_results"
      ],
      "metadata": {
        "id": "b4lmwu74B4eH"
      },
      "execution_count": null,
      "outputs": []
    },
    {
      "cell_type": "code",
      "source": [
        "result_10_percent_data_aug"
      ],
      "metadata": {
        "id": "RP4lQcDJCWBz"
      },
      "execution_count": null,
      "outputs": []
    },
    {
      "cell_type": "code",
      "source": [
        "import numpy as np\n",
        "np.isclose(np.array(result_10_percent_data_aug), np.array(loaded_weights_model_results))"
      ],
      "metadata": {
        "id": "aPBdJ7z5Cbtv"
      },
      "execution_count": null,
      "outputs": []
    },
    {
      "cell_type": "code",
      "source": [
        "print( np.array(result_10_percent_data_aug) - np.array(loaded_weights_model_results))"
      ],
      "metadata": {
        "id": "UApU24HiCuy2"
      },
      "execution_count": null,
      "outputs": []
    },
    {
      "cell_type": "code",
      "source": [
        "model_2.layers"
      ],
      "metadata": {
        "id": "9tMH3rxuC2UY"
      },
      "execution_count": null,
      "outputs": []
    },
    {
      "cell_type": "code",
      "source": [
        "for layer in model_2.layers:\n",
        "  print(layer, layer.trainable)"
      ],
      "metadata": {
        "id": "kFYBfHgwDUHj"
      },
      "execution_count": null,
      "outputs": []
    },
    {
      "cell_type": "code",
      "source": [
        "for i, layer in enumerate(model_2.layers[2].layers):\n",
        "  print(i,layer.name, layer.trainable)"
      ],
      "metadata": {
        "id": "A-ZSXvQ9Db6e"
      },
      "execution_count": null,
      "outputs": []
    },
    {
      "cell_type": "code",
      "source": [
        "print(len(model_2.layers[2].trainable_variables))"
      ],
      "metadata": {
        "id": "BjBxLOxwDs-p"
      },
      "execution_count": null,
      "outputs": []
    },
    {
      "cell_type": "code",
      "source": [
        "base_model.trainable = True\n",
        "\n",
        "for layer in base_model.layers[:-10]:\n",
        "  layer.trainable = False\n",
        "\n",
        "model_2.compile(loss=\"categorical_crossentropy\",\n",
        "                optimizer =tf.keras.optimizers.Adam(lr=0.0001),\n",
        "                metrics=[\"accuracy\"])\n"
      ],
      "metadata": {
        "id": "5VZK8m6xD7aJ"
      },
      "execution_count": null,
      "outputs": []
    },
    {
      "cell_type": "code",
      "source": [
        "for  layer_number, layer  in enumerate(model_2.layers[2].layers):\n",
        "  print(layer_number,layer.name, layer.trainable)"
      ],
      "metadata": {
        "id": "e9Vi0dDcEeCM"
      },
      "execution_count": null,
      "outputs": []
    },
    {
      "cell_type": "code",
      "source": [
        "fine_tune_epochs = initial_epochs + 5\n",
        "history_fine_10_percent_data_aug = model_2.fit(train_data_10_percent,\n",
        "                                epochs=fine_tune_epochs,\n",
        "                                #steps_per_epoch=len(train_data_1_percent),\n",
        "                                validation_data=test_data,\n",
        "                                validation_steps=int(0.25 * len(test_data)),\n",
        "                                initial_epoch=history_10_percent_data_aug.epoch[-1],\n",
        "                                callbacks=[create_tensorboard_callback(dir_name=\"transfer_learning\",\n",
        "                                                                        experiment_name=\"10_percent_date_aug\")])\n",
        "                                           #checkpoint_callback])"
      ],
      "metadata": {
        "id": "RYzA02bbFAFu"
      },
      "execution_count": null,
      "outputs": []
    },
    {
      "cell_type": "code",
      "source": [
        "results_fine_tune_10_percent = model_2.evaluate(test_data\n",
        "                                                )"
      ],
      "metadata": {
        "id": "wzZSNp6uGC-9"
      },
      "execution_count": null,
      "outputs": []
    },
    {
      "cell_type": "code",
      "source": [
        "plot_loss_curvs(history_fine_10_percent_data_aug)"
      ],
      "metadata": {
        "id": "wluNK9mLGMsm"
      },
      "execution_count": null,
      "outputs": []
    },
    {
      "cell_type": "code",
      "source": [
        "def comapre_historys(original_history, new_history, initial_epochs=5):\n",
        "  acc=original_history.history[\"accuracy\"]\n",
        "  loss=original_history.history[\"loss\"]\n",
        "\n",
        "  val_acc=original_history.history[\"val_accuracy\"]\n",
        "  val_loss=original_history.history[\"val_loss\"]\n",
        "\n",
        "  total_acc = acc+ new_history.history[\"accuracy\"]\n",
        "  total_loss = loss + new_history.history[\"loss\"]\n",
        "\n",
        "  total_val_acc = val_acc+ new_history.history[\"val_accuracy\"]\n",
        "  total_val_loss = val_loss + new_history.history[\"val_loss\"]\n",
        "\n",
        "  plt.figure(figsize=(8,8))\n",
        "  plt.subplot(2, 1, 1)\n",
        "  plt.plot(total_acc, label=\"Training Accuracy\")\n",
        "  plt.plot(total_val_acc, label=\"Val Accuracy\")\n",
        "  plt.plot([initial_epochs-1, initial_epochs-1],plt.ylim(),label=\"Start Fine Tuning\")\n",
        "  plt.legend(loc=\"lower right\")\n",
        "  plt.title(\"Training and Validation Accuracy\")\n",
        "\n",
        "  plt.figure(figsize=(8,8))\n",
        "  plt.subplot(2, 1, 1)\n",
        "  plt.plot(total_loss, label=\"Training Loss\")\n",
        "  plt.plot(total_val_loss, label=\"Val Loss\")\n",
        "  plt.plot([initial_epochs-1, initial_epochs-1],plt.ylim(),label=\"Start Fine Tuning\")\n",
        "  plt.legend(loc=\"lower right\")\n",
        "  plt.title(\"Training and Validation Loss\")\n"
      ],
      "metadata": {
        "id": "f6fBhmSZOvq6"
      },
      "execution_count": null,
      "outputs": []
    },
    {
      "cell_type": "code",
      "source": [
        "compare_historys(history_10_percent_data_aug,\n",
        "                 history_fine_10_percent_data_aug,\n",
        "                 initial_epochs=5)"
      ],
      "metadata": {
        "id": "XqdCaCqqSJ7F"
      },
      "execution_count": null,
      "outputs": []
    },
    {
      "cell_type": "code",
      "source": [
        "!wget https://storage.googleapis.com/ztm_tf_course/food_vision/10_food_classes_all_data.zip\n",
        "unzip_data(\"10_food_classes_all_data.zip\")"
      ],
      "metadata": {
        "id": "X3_nuf0lTFlU"
      },
      "execution_count": null,
      "outputs": []
    },
    {
      "cell_type": "code",
      "source": [],
      "metadata": {
        "id": "ZvgPe4kTT-S9"
      },
      "execution_count": null,
      "outputs": []
    }
  ],
  "metadata": {
    "colab": {
      "provenance": [],
      "authorship_tag": "ABX9TyP6QyDz09K3OoHWQfirlmHD",
      "include_colab_link": true
    },
    "kernelspec": {
      "display_name": "Python 3",
      "name": "python3"
    },
    "language_info": {
      "name": "python"
    }
  },
  "nbformat": 4,
  "nbformat_minor": 0
}